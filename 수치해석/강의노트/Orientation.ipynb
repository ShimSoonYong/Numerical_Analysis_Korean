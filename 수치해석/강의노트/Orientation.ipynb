{
 "cells": [
  {
   "cell_type": "markdown",
   "metadata": {},
   "source": [
    "# Numerical Methods\n",
    "\n",
    "미분방정식을 컴퓨터로 계산해 해를 구하는 방법  \n",
    "- Ordinary Differencial Equation  \n",
    "- Partial Differencial Equation"
   ]
  },
  {
   "cell_type": "markdown",
   "metadata": {},
   "source": [
    "Lecturer: Roh, Sung Cheoul  \n",
    "Telephone: 033 - 760 - 2425 (Office)  \n",
    "E-mail: scroh@yonsei.ac.kr  "
   ]
  },
  {
   "cell_type": "markdown",
   "metadata": {},
   "source": [
    "__Reference books__\n",
    "1. 노성철, \"자연과학 및 공학해석을 위한 수치해석\", 도서출판 동화기술, 2023.  \n",
    "    - 주 교재\n",
    "2. S. C. Chapra, \"Applied Numerical Methods,\" MacGraw Hill, 2020.  \n",
    "    - 연습문제 나옴\n",
    "3. R. W. Hornbeck, \"Numerical Methods,\" Quantum Publishers, Inc, 1975.\n",
    "    - 인터넷에서 PDF 파일을 무료로 구할 수 있다."
   ]
  },
  {
   "cell_type": "markdown",
   "metadata": {},
   "source": [
    "__Credit Evaluation & Grading__\n",
    "1. Attendance & Attitude: 10%\n",
    "2. Assignment: 20%\n",
    "    - 주어진 소스코드를 문제에 맞게 약간 변형하여 문제를 푸는 형식\n",
    "3. Mid-Term Exam: 30%\n",
    "4. Final Exam: 40%"
   ]
  },
  {
   "cell_type": "markdown",
   "metadata": {},
   "source": [
    "## Class Schedule"
   ]
  },
  {
   "cell_type": "markdown",
   "metadata": {},
   "source": [
    "| Week | Date      | Lectures                                                           | Remark                |\n",
    "|------|-----------|--------------------------------------------------------------------|-----------------------|\n",
    "| 1    | 9/2-8     | Introduction & Course Overview                                     |                       |\n",
    "| 2    | 9/9-15    | Taylor Series Expansion & Finite Difference Calculus               | HW #1, Due 10/7       |\n",
    "| 3    | 9/16-22   | Roots Finding: Bisection Method                                    |                       |\n",
    "| 4    | 9/23-29   | Newton's method, Secant Method                                     |                       |\n",
    "| 5    | 9/30-10/6 | Interpolation: Lagrange Polynomials                                |                       |\n",
    "| 6    | 10/7-13   | Numerical Integration: Trapezoidal Method, Simpson's Method        |                       |\n",
    "| 7    | 10/14-20  | Solution of Simultaneous Linear Algebraic Equations: Matrix Terminology and Operations, Gauss Elimination |                       |\n",
    "| 8    | 10/21-27  | Mid-Term Exam                                                     |                       |\n",
    "| 9    | 10/28-11/3| Gauss-Jordan Elimination, TDMA (Tri-Diagonal Matrix Algorithm) Method | HW #2, Due 12/2       |\n",
    "| 10   | 11/4-10   | Gauss-Siedal Iteration and Relaxation, Curve Fitting: Least Square Method |                       |\n",
    "| 11   | 11/11-17  | Optimization Problems: Mini & Max findings                         |                       |\n",
    "| 12   | 11/18-24  | Solving Methods to Ordinary Differential Equations: Initial Value Problems (IVP), Euler Method |                       |\n",
    "| 13   | 11/25-12/1| Runge-Kutta Method, Shooting-Method                                |                       |\n",
    "| 14   | 12/2-8    | Boundary Value Problems (BVP): Introductory mention on Solution Method of PDE |                       |\n",
    "| 15   | 12/9-15   | Summary                                                           |                       |\n",
    "| 16   | 12/16-22  | Final Exam                                                        |                       |"
   ]
  }
 ],
 "metadata": {
  "kernelspec": {
   "display_name": "Python 3",
   "language": "python",
   "name": "python3"
  },
  "language_info": {
   "name": "python",
   "version": "3.10.0"
  }
 },
 "nbformat": 4,
 "nbformat_minor": 2
}

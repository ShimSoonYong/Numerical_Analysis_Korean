{
 "cells": [
  {
   "cell_type": "markdown",
   "metadata": {},
   "source": [
    "# 편미분방정식\n",
    "\n",
    "_Partial Differential Equations_"
   ]
  },
  {
   "cell_type": "markdown",
   "metadata": {},
   "source": [
    "상미분방정식은 독립변수가 하나, 편미분방정식은 독립변수가 두 개 이상이다."
   ]
  },
  {
   "cell_type": "markdown",
   "metadata": {},
   "source": [
    "편미분방정식은 크게 3종류이다.\n",
    "\n",
    "__Parabolic type(포물형)__:\n",
    "$$\n",
    "\\frac{\\partial^2 u}{\\partial x^2} = \\Phi\\left(x,y,u,\\frac{\\partial u}{\\partial x},\\frac{\\partial u}{\\partial y}\\right)\n",
    "$$\n",
    "\n",
    "__Elliptic type(타원형)__:\n",
    "$$\n",
    "\\frac{\\partial^2 u}{\\partial x^2}+\\frac{\\partial^2 u}{\\partial y^2} = \\Phi\\left(x,y,u,\\frac{\\partial u}{\\partial x},\\frac{\\partial u}{\\partial y}\\right)\n",
    "$$\n",
    "\n",
    "__Hyperbolic type(쌍곡선형)__:\n",
    "$$\n",
    "\\frac{\\partial^2 u}{\\partial x^2} - \\beta\\frac{\\partial^2 u}{\\partial y^2} = \\Phi\\left(x,y,u,\\frac{\\partial u}{\\partial x},\\frac{\\partial u}{\\partial y}\\right)\n",
    "$$"
   ]
  },
  {
   "cell_type": "markdown",
   "metadata": {},
   "source": [
    "__Laplace Equation(라플라스 방정식)__:\n",
    "\n",
    "시간에 따라 변하지 않는 상태를 의미한다.\n",
    "$$\n",
    "\\frac{\\partial^2 u}{\\partial x^2}+\\frac{\\partial^2 u}{\\partial y^2} =\\Phi =0\n",
    "$$"
   ]
  },
  {
   "cell_type": "markdown",
   "metadata": {},
   "source": [
    "실험을 해도 계측장비 자체에 오류가 있어서 정확한 해를 구하지 못할 수 있다(실험오차). 경우에 따라 이는 매우 커서 차라리 수치해석의 오차(절단오차, 반올림오차)를 감수하는 게 나을 수 있다."
   ]
  },
  {
   "cell_type": "markdown",
   "metadata": {},
   "source": [
    "상미분방정식 풀이에서 유한차분을 했듯이, 편미분방정식도 유한차분을 해서 풀이한다. 하지만 편미분방정식은 차분할 축이 더 생긴 점이 다르다. "
   ]
  },
  {
   "cell_type": "markdown",
   "metadata": {},
   "source": [
    "__Steps__:\n",
    "1. __Finite Differencing__\n",
    "2. __Make Recurrence Formula__\n",
    "3. 주어진 독립변수에 따라 Computational Domain(계산 구역)을 구성하고, 거기에 Recurrence Formula를 적용한다.\n",
    "    - 계산 구역 내의 격자점들의 값들이 결정되면서 연쇄적으로 해가 구해진다.\n",
    "4. 격자점 내부에 종속변수 $u(x, y)$ 값들이 결정된다."
   ]
  },
  {
   "cell_type": "markdown",
   "metadata": {},
   "source": [
    "## 예제"
   ]
  },
  {
   "cell_type": "markdown",
   "metadata": {},
   "source": [
    "__1차원 열전도 방정식(포물형)__:\n",
    "\n",
    "$$\n",
    "\\frac{\\partial^2 T}{\\partial x^2} = \\frac{1}{\\alpha}\\frac{\\partial T}{\\partial t} \\tag{0}\n",
    "$$\n",
    "\n",
    "여기서:\n",
    "- $T$가 온도\n",
    "- $t$는 시간\n",
    "- $x$는 1차원 축"
   ]
  },
  {
   "cell_type": "markdown",
   "metadata": {},
   "source": [
    "### 풀이법"
   ]
  },
  {
   "cell_type": "markdown",
   "metadata": {},
   "source": [
    "2계 미분항을 중앙차분:\n",
    "\n",
    "$$\n",
    "\\frac{T_{j,k+1} - 2 T_{j,k} + T_{j,k-1}}{\\Delta x^2} = \\frac{1}{\\alpha}\\frac{T_{j,k+1}  - T_{j,k-1}}{\\Delta t}\n",
    "$$\n",
    "\n",
    "$$\n",
    "\\text{where }k:x,\\ j:t\n",
    "$$"
   ]
  },
  {
   "cell_type": "markdown",
   "metadata": {},
   "source": [
    "축 $x$에 따른 업데이트 식:\n",
    "\n",
    "$$\n",
    "T_{j+1,k} = \\left[\\frac{\\alpha(\\Delta t)}{(\\Delta x)^2} \\right]T_{j,k-1} + \\left[1-\\frac{2\\alpha (\\Delta t)}{(\\Delta x)^2} \\right]T_{j,k} + \\left[\\frac{\\alpha(\\Delta t)}{(\\Delta x)^2} \\right]T_{j,k+1}\n",
    "$$"
   ]
  },
  {
   "cell_type": "markdown",
   "metadata": {},
   "source": [
    "$x$값이 상수로 주어지면 다음 시간 스텝의 온도 값들을 구할 수 있다."
   ]
  }
 ],
 "metadata": {
  "language_info": {
   "name": "python"
  }
 },
 "nbformat": 4,
 "nbformat_minor": 2
}

{
 "cells": [
  {
   "cell_type": "markdown",
   "metadata": {},
   "source": [
    "$$\n",
    "\\begin{aligned}\n",
    "\\begin{cases}\n",
    "a_{11} x_1 + a_{12} x_2 + \\cdots + a_{1n} x_n = b_1\\\\\n",
    "a_{21} x_2 + a_{22} x_2 + \\cdots + a_{2n} x_n = b_2\\\\\n",
    "\\vdots\\quad\\quad\\quad \\vdots\\quad\\quad\\quad \\vdots\\quad\\quad\\quad \\\\\n",
    "a_{n1} x_1 + a_{n2} x_2 + \\cdots + a_{nn} x_n = b_n\n",
    "\\end{cases}\n",
    "\\to\n",
    "\\begin{bmatrix}\n",
    "a_{11} & a_{12} & \\cdots & a_{1n}\\\\\n",
    "a_{21} & a_{22} & \\cdots & a_{2n}\\\\\n",
    "\\vdots & \\vdots &\\ddots &\\vdots\\\\\n",
    "a_{n1} & a_{n2} & \\cdots & a_{nn}\n",
    "\\end{bmatrix}\n",
    "\n",
    "\\begin{bmatrix}\n",
    "x_1\\\\ x_2 \\\\ \\vdots \\\\ x_n\n",
    "\\end{bmatrix}\n",
    "=\n",
    "\\begin{bmatrix}\n",
    "b_1 \\\\ b_2 \\\\ \\vdots \\\\ b_n\n",
    "\\end{bmatrix}\n",
    "\\to\n",
    "\\mathbf{A} \\vec{x} = \\vec{B}\n",
    "\\end{aligned}\n",
    "$$"
   ]
  },
  {
   "cell_type": "markdown",
   "metadata": {},
   "source": [
    "# 기본 개념"
   ]
  },
  {
   "cell_type": "markdown",
   "metadata": {},
   "source": [
    "## 행렬의 종류"
   ]
  },
  {
   "cell_type": "markdown",
   "metadata": {},
   "source": [
    "정방행렬\n",
    "- 미지수의 개수와 방정식의 개수가 동일한 연립방정식에 해당"
   ]
  },
  {
   "cell_type": "markdown",
   "metadata": {},
   "source": [
    "삼각행렬\n",
    "- 대각선 항을 기준으로 위나 아래만 0이 아닌 수가 있는 행렬\n",
    "- 위쪽에 값이 있으면 상삼각행렬, 아래쪽에 값이 있으면 하삼각행렬"
   ]
  },
  {
   "cell_type": "markdown",
   "metadata": {},
   "source": [
    "대각행렬\n",
    "- 대각선상에 있지 않은 모든 원소가 0이면 대각행렬이다.\n",
    "\n",
    "단위행렬\n",
    "- 대각행렬 중 대각원소가 모두 1인 행렬\n",
    "- 주로 $\\mathbf{I}$로 표기"
   ]
  },
  {
   "cell_type": "markdown",
   "metadata": {},
   "source": [
    "__Tridiagonal Matrix(삼대각행렬)__\n",
    "- Banded Matrix라고도 한다.\n",
    "- 대각원소들과 그 위, 아래로 인접한 원소들만 0이 아닌 행렬\n",
    "\n",
    "$$\n",
    "\\begin{bmatrix}\n",
    "a_{11} & a_{12} &\\cdots & 0 \\\\\n",
    "a_{21} & a_{22} &\\cdots & 0 \\\\\n",
    "\\vdots & \\vdots &\\ddots & a_{(n-1)n} &\\\\\n",
    "0 & 0 & a_{n(n-1)} & a_{nn}\n",
    "\\end{bmatrix}\n",
    "$$"
   ]
  },
  {
   "cell_type": "markdown",
   "metadata": {},
   "source": [
    "## 행렬 연산"
   ]
  },
  {
   "cell_type": "markdown",
   "metadata": {},
   "source": [
    "__행렬의 덧셈__\n",
    "- 동일한 위치의 원소끼리 더한다.\n",
    "- 뺄셈도 음수의 덧셈과 같이 계산한다.\n",
    "    - 행렬에 음수 기호를 붙이면 내부 원소 모두에 음수 기호가 추가된다.\n",
    "\n",
    "$$\n",
    "\\mathbf{A} + \\mathbf{B} = a_{ij}+b_{ij}=c_{ij}\n",
    "$$"
   ]
  },
  {
   "cell_type": "markdown",
   "metadata": {},
   "source": [
    "__행렬의 곱셈__\n",
    "\n",
    "$$\n",
    "\\begin{aligned}\n",
    "\\mathbf{A} =\n",
    "\\begin{bmatrix}\n",
    "a_{11} & a_{12} & a_{13} \\\\\n",
    "a_{21} & a_{22} & a_{23} \n",
    "\\end{bmatrix}\n",
    "=\n",
    "\\begin{bmatrix}\n",
    "2 & 1 & 3 \\\\\n",
    "-1 & 2 & 4\n",
    "\\end{bmatrix}\n",
    ",\n",
    "\\mathbf{B}=\n",
    "\\begin{bmatrix}\n",
    "b_{11} & b_{12}\\\\\n",
    "b_{21} & b_{22} \\\\\n",
    "b_{31} & b_{32} \\\\\n",
    "\\end{bmatrix}\n",
    "=\n",
    "\\begin{bmatrix}\n",
    "1 & 2\\\\\n",
    "2 & -1 \\\\\n",
    "3 & 4 \\\\\n",
    "\\end{bmatrix}\n",
    "\\end{aligned} \\\\\n",
    "\n",
    "\\begin{aligned}\n",
    "\\mathbf{A} \\times \\mathbf{B} =\n",
    "\\begin{bmatrix}\n",
    "a_{11}b_{11} + a_{12}b_{21} + a_{13}b_{31} & a_{11}b_{12} + a_{12}b_{22} + a_{13}b_{32}\\\\\n",
    "a_{21}b_{11} + a_{22}b_{21} + a_{23}b_{31} & a_{21}b_{12} + a_{22}b_{22} + a_{23}b_{32}\n",
    "\\end{bmatrix}\n",
    "=\n",
    "\\begin{bmatrix}\n",
    "13 & 15 \\\\\n",
    "15 & 12\n",
    "\\end{bmatrix}\n",
    "\\end{aligned}\n",
    "$$"
   ]
  },
  {
   "cell_type": "markdown",
   "metadata": {},
   "source": [
    "$$\n",
    "\\bf{A}_{n\\times m} \\times \\bf{B}_{m\\times n} = \\bf{C}_{n \\times n}\n",
    "$$"
   ]
  },
  {
   "cell_type": "code",
   "execution_count": 1,
   "metadata": {},
   "outputs": [
    {
     "data": {
      "text/plain": [
       "array([[13, 15],\n",
       "       [15, 12]])"
      ]
     },
     "execution_count": 1,
     "metadata": {},
     "output_type": "execute_result"
    }
   ],
   "source": [
    "import numpy as np\n",
    "\n",
    "A = np.array([\n",
    "    [2, 1, 3],\n",
    "    [-1, 2, 4]\n",
    "])\n",
    "B = np.array([\n",
    "    [1,2],\n",
    "    [2,-1],\n",
    "    [3,4]\n",
    "])\n",
    "\n",
    "np.matmul(A,B)"
   ]
  },
  {
   "cell_type": "markdown",
   "metadata": {},
   "source": [
    "__역행렬__\n",
    "- 원래 행렬과 곱하면 단위행렬이 나오는 행렬\n",
    "$$\n",
    "\\bf{A}_{n\\times n} \\to \\bf{A}_{n\\times_n}^{-1} \n",
    "$$\n",
    "$$\n",
    "\\bf{A}_{n\\times n} \\times \\bf{A}_{n\\times_n}^{-1} = \\bf{I}\n",
    "$$"
   ]
  },
  {
   "cell_type": "markdown",
   "metadata": {},
   "source": [
    "$$\n",
    "\\mathbf{A}\\vec{x}=\\vec{B} \\to \\mathbf{A^{-1}}\\mathbf{A}\\vec{x}=\\mathbf{A^{-1}}\\vec{B} \\\\\n",
    "= \\mathbf{I}\\vec{x} = \\mathbf{A^{-1}}\\vec{B} \\to \\vec{x}=\\mathbf{A^{-1}}\\vec{B}\n",
    "$$"
   ]
  },
  {
   "cell_type": "markdown",
   "metadata": {},
   "source": [
    "__전치행렬(Transpose Matrix)__\n",
    "- 행과 열을 바꾼 것\n",
    "$$\n",
    "\\begin{aligned}\n",
    "\\bf{A} =\n",
    "\\begin{bmatrix}\n",
    "4&3&1 \\\\\n",
    "2&1&5\n",
    "\\end{bmatrix}\n",
    "\\bf{A}^T =\n",
    "\\begin{bmatrix}\n",
    "4&2\\\\\n",
    "3&1\\\\\n",
    "1&5\n",
    "\\end{bmatrix}\n",
    "\\end{aligned}\n",
    "$$"
   ]
  },
  {
   "cell_type": "markdown",
   "metadata": {},
   "source": [
    "__Determinant(행렬식)__\n",
    "- 행렬 $\\bf{A}$가 정방행렬일 때만 정의된다.\n",
    "- 일반적으로 $\\det(\\bf{A})$ 또는 $|\\bf{A}|$로 표기한다."
   ]
  },
  {
   "cell_type": "markdown",
   "metadata": {},
   "source": [
    "$$\n",
    "\\begin{aligned}\n",
    "|\\bf{A}| = \n",
    "\\begin{bmatrix}\n",
    "a_{11}&a_{12}&a_{13}\\\\\n",
    "a_{21}&a_{22}&a_{23}\\\\\n",
    "a_{31}&a_{32}&a_{33}\n",
    "\\end{bmatrix}\n",
    "=a_{11}(-1)^{1+1}\n",
    "\\begin{vmatrix}\n",
    "a_{22} & a_{23}\\\\ a_{32} & a_{33}\n",
    "\\end{vmatrix}\n",
    "+a_{12}(-1)^{1+2}\n",
    "\\begin{vmatrix}\n",
    "a_{21} & a_{23}\\\\ a_{31} & a_{33}\n",
    "\\end{vmatrix}\n",
    "+a_{13}(-1)^{1+3}\n",
    "\\begin{vmatrix}\n",
    "a_{21} & a_{22}\\\\ a_{31} & a_{32}\n",
    "\\end{vmatrix}\n",
    "\\end{aligned}\n",
    "$$"
   ]
  },
  {
   "cell_type": "markdown",
   "metadata": {},
   "source": [
    "__Cramer's Rule__\n",
    "- $x_k = \\frac{\\det{\\bf{A}_k}}{\\det{\\bf{A}}}$\n",
    "- $\\text{where }\\bf{A}_k =\\bf{A}$에서 $k$번째 열의 원소를 $\\vec{B}$의 원소들로 대체한 행렬\n",
    "$$\n",
    "\\bf{A}_{n\\times n}\\vec{x}=\\vec{B}\n",
    "$$"
   ]
  },
  {
   "cell_type": "markdown",
   "metadata": {},
   "source": [
    "# 선형연립방정식의 수치해법\n",
    "교재 89p"
   ]
  },
  {
   "cell_type": "markdown",
   "metadata": {},
   "source": [
    "## 가우스 소거법"
   ]
  },
  {
   "cell_type": "markdown",
   "metadata": {},
   "source": [
    "$$\n",
    "\\begin{aligned}\n",
    "\\begin{cases}\n",
    "a_{11}x_1 + a_{12}x_2 + a_{13}x_3 = r_1 \\\\\n",
    "a_{21}x_1 + a_{22}x_2 + a_{23}x_3 = r_2 \\\\\n",
    "a_{31}x_1 + a_{32}x_2 + a_{33}x_3 = r_3 \\\\\n",
    "\\end{cases}\n",
    "\\to\n",
    "\\begin{bmatrix}\n",
    "a_{11}&a_{12}&a_{13}\\\\\n",
    "a_{21}&a_{22}&a_{23} \\\\\n",
    "a_{31}&a_{32}&a_{33}\\\\\n",
    "\\end{bmatrix}\n",
    "\n",
    "\\begin{bmatrix}\n",
    "x_1\\\\\n",
    "x_2\\\\\n",
    "x_3\n",
    "\\end{bmatrix}\n",
    "=\n",
    "\\begin{bmatrix}\n",
    "r_1\\\\\n",
    "r_2\\\\\n",
    "r_3\n",
    "\\end{bmatrix}\n",
    "\\end{aligned}\n",
    "$$"
   ]
  },
  {
   "cell_type": "markdown",
   "metadata": {},
   "source": [
    "__기초 행 연산__\n",
    "- 연립방정식 중 하나에 임의의 상수를 곱해도 해는 변하지 않는다.\n",
    "- 연립방정식끼리 빼도 해는 변하지 않는다.\n",
    "- 연립방정식 중 하나에 임의의 상수를 곱해서 다른 방정식에서 빼도 해는 변하지 않는다."
   ]
  },
  {
   "cell_type": "markdown",
   "metadata": {},
   "source": [
    "$$\n",
    "a_{21}[x_1 + a_{12}/a_{11}x_2 + a_{13}/a_{11}x_3 = r_1/a_{11}] \\\\\n",
    "(-a_{21}+a_{21})x_1 + (a_{22} -(a_{12}/a_{11})a_{21})x_2 + (a_{23}-(a_{13}/a_{11})a_21)x_3 = -1/a_{11}a_{21}r_1 + r_2\\\\\n",
    "\\vdots\n",
    "$$"
   ]
  },
  {
   "cell_type": "markdown",
   "metadata": {},
   "source": [
    "$$\n",
    "\\begin{aligned}\n",
    "\\begin{bmatrix}\n",
    "1&\\frac{a_{12}}{a_{11}}&\\frac{a_{13}}{a_{11}}\\\\\n",
    "(a_{21}-a_{21}) & a_{22} - \\frac{a_{12}}{a_{11}}a_{21} & a_{23}-\\frac{a_{13}}{a_{11}}a_{21}\\\\\n",
    "a_{31}&a_{32}&a_{33}\n",
    "\\end{bmatrix}\n",
    "\\begin{bmatrix}\n",
    "x_1\\\\x_2\\\\x_3\n",
    "\\end{bmatrix}\n",
    "=\n",
    "\\begin{bmatrix}\n",
    "\\frac{r_1}{a_{11}}\\\\\n",
    "-\\frac{a_{21}}{a_{11}}r_1 + r_2\\\\\n",
    "r_3\n",
    "\\end{bmatrix}\n",
    "\\end{aligned}\n",
    "$$"
   ]
  },
  {
   "cell_type": "markdown",
   "metadata": {},
   "source": [
    "이를 반복하여 하삼각행렬을 전부 0으로, 대각원소를 모두 1로 만들면 맨 아래 행에는 계수가 1만 남아 대입을 통해 쉽게 해를 구할 수 있다."
   ]
  },
  {
   "cell_type": "markdown",
   "metadata": {},
   "source": [
    "$$\n",
    "\\begin{aligned}\n",
    "\\begin{bmatrix}\n",
    "1&a_{12}&a_{13}\\\\0&1&a_{23}\\\\0&0&1\n",
    "\\end{bmatrix}\n",
    "\\begin{bmatrix}\n",
    "x_1\\\\x_2\\\\x_3\n",
    "\\end{bmatrix}\n",
    "=\n",
    "\\begin{bmatrix}\n",
    "r_1'\\\\r_2'\\\\r_3'\n",
    "\\end{bmatrix}\n",
    "\\end{aligned}\n",
    "$$"
   ]
  },
  {
   "cell_type": "markdown",
   "metadata": {},
   "source": [
    "$$\n",
    "\\begin{cases}\n",
    "x_1 + a_{12}'x_2 + a_{13}'x_3 = r_1'\\\\\n",
    "x_2 + aa_{23}'x_3 = r_2'\\\\\n",
    "x_3 = r_3'\n",
    "\\end{cases}\n",
    "$$"
   ]
  },
  {
   "cell_type": "markdown",
   "metadata": {},
   "source": [
    "$x_3=r_3'$으로 결정되었으므로 나머지도 다 구할 수 있게 된다."
   ]
  },
  {
   "cell_type": "markdown",
   "metadata": {},
   "source": [
    "이것이 __가우스 소거법(Gauss Elimination)__ 이다."
   ]
  },
  {
   "cell_type": "markdown",
   "metadata": {},
   "source": [
    "## 가우스-조던 소거법\n",
    "_Gause-Jordan Elimination_"
   ]
  },
  {
   "cell_type": "markdown",
   "metadata": {},
   "source": [
    "하삼각 행렬만 0으로 만들지 말고 상삼각 행렬도 전부 다 0으로 만든다."
   ]
  },
  {
   "cell_type": "markdown",
   "metadata": {},
   "source": [
    "$$\n",
    "\\begin{aligned}\n",
    "\\begin{bmatrix}\n",
    "1&0&0\\\\0&1&0\\\\0&0&1\n",
    "\\end{bmatrix}\n",
    "\\begin{bmatrix}\n",
    "x_1\\\\x_2\\\\x_3\n",
    "\\end{bmatrix}\n",
    "=\n",
    "\\begin{bmatrix}\n",
    "r_1''\\\\r_2''\\\\r_3''\n",
    "\\end{bmatrix}\n",
    "\\end{aligned}\n",
    "$$"
   ]
  },
  {
   "cell_type": "markdown",
   "metadata": {},
   "source": [
    "연립방정식으로 다시 전환하면 그냥 바로 값을 대입하면 해가 된다."
   ]
  },
  {
   "cell_type": "markdown",
   "metadata": {},
   "source": [
    "### 교재 예제 II-3-1"
   ]
  },
  {
   "cell_type": "markdown",
   "metadata": {},
   "source": [
    "$$\n",
    "\\begin{aligned}\n",
    "\\begin{bmatrix}\n",
    "2&1&-1\\\\1&4&1\\\\2&1&3\n",
    "\\end{bmatrix}\n",
    "\\begin{bmatrix}\n",
    "x_1\\\\x_2\\\\x_3\n",
    "\\end{bmatrix}\n",
    "=\n",
    "\\begin{bmatrix}\n",
    "1\\\\12\\\\13\n",
    "\\end{bmatrix}\n",
    "\\end{aligned}\n",
    "$$"
   ]
  },
  {
   "cell_type": "markdown",
   "metadata": {},
   "source": [
    "C 코드에선 확장행렬(Augmented Matrix)로 입력해야 한다."
   ]
  },
  {
   "cell_type": "markdown",
   "metadata": {},
   "source": [
    "$$\n",
    "\\begin{bmatrix}\n",
    "2&1&-1&1\\\\1&4&1&12\\\\2&1&3&13\n",
    "\\end{bmatrix}\n",
    "$$"
   ]
  },
  {
   "cell_type": "code",
   "execution_count": 2,
   "metadata": {},
   "outputs": [
    {
     "name": "stdout",
     "output_type": "stream",
     "text": [
      "x= [1. 2. 3.]\n",
      "Step 1: Normalize row 0:\n",
      "[[ 1.   0.5 -0.5  0.5]\n",
      " [ 1.   4.   1.  12. ]\n",
      " [ 2.   1.   3.  13. ]]\n",
      "Step 1.1: Eliminating row 1, factor = 1.0:\n",
      "[[ 1.   0.5 -0.5  0.5]\n",
      " [ 0.   3.5  1.5 11.5]\n",
      " [ 2.   1.   3.  13. ]]\n",
      "Step 1.2: Eliminating row 2, factor = 2.0:\n",
      "[[ 1.   0.5 -0.5  0.5]\n",
      " [ 0.   3.5  1.5 11.5]\n",
      " [ 0.   0.   4.  12. ]]\n",
      "Step 2: Normalize row 1:\n",
      "[[ 1.          0.5        -0.5         0.5       ]\n",
      " [ 0.          1.          0.42857143  3.28571429]\n",
      " [ 0.          0.          4.         12.        ]]\n",
      "Step 2.0: Eliminating row 0, factor = 0.5:\n",
      "[[ 1.          0.         -0.71428571 -1.14285714]\n",
      " [ 0.          1.          0.42857143  3.28571429]\n",
      " [ 0.          0.          4.         12.        ]]\n",
      "Step 2.2: Eliminating row 2, factor = 0.0:\n",
      "[[ 1.          0.         -0.71428571 -1.14285714]\n",
      " [ 0.          1.          0.42857143  3.28571429]\n",
      " [ 0.          0.          4.         12.        ]]\n",
      "Step 3: Normalize row 2:\n",
      "[[ 1.          0.         -0.71428571 -1.14285714]\n",
      " [ 0.          1.          0.42857143  3.28571429]\n",
      " [ 0.          0.          1.          3.        ]]\n",
      "Step 3.0: Eliminating row 0, factor = -0.7142857142857143:\n",
      "[[1.         0.         0.         1.        ]\n",
      " [0.         1.         0.42857143 3.28571429]\n",
      " [0.         0.         1.         3.        ]]\n",
      "Step 3.1: Eliminating row 1, factor = 0.42857142857142855:\n",
      "[[1. 0. 0. 1.]\n",
      " [0. 1. 0. 2.]\n",
      " [0. 0. 1. 3.]]\n"
     ]
    }
   ],
   "source": [
    "import numpy as np\n",
    "from Linear_Equation import Linear_Equation\n",
    "\n",
    "A = np.array([[2,1,-1],[1,4,1],[2,1,3]])\n",
    "B = np.array([[1],[12],[13]])\n",
    "augmented_matrix = np.hstack([A, B])\n",
    "\n",
    "x, logs = Linear_Equation(augmented_matrix).Gauss_Jordan()\n",
    "\n",
    "print('x=',x)\n",
    "print('\\n'.join(logs))"
   ]
  },
  {
   "cell_type": "markdown",
   "metadata": {},
   "source": [
    "```C\n",
    "x0 = 1.000000\t  \n",
    "x1 = 2.000000\t  \n",
    "x2 = 3.000000\t  \n",
    "```"
   ]
  },
  {
   "cell_type": "markdown",
   "metadata": {},
   "source": [
    "### 교재 예제 II-3-2"
   ]
  },
  {
   "cell_type": "markdown",
   "metadata": {},
   "source": [
    "```C\n",
    "   double x[4];  \n",
    "   double A[4][5]={{4.0,3.0,3.0,3.0,13.0},{5.0,6.0,5.0,5.0,21.0}\n",
    "                  ,{6.0,7.0,7.0,6.0,26.0},{7.0,6.0,7.0,8.0,28.0}};  \n",
    "x0=1.000000\t\n",
    "x1=1.000000\t\n",
    "x2=1.000000\t\n",
    "x3=1.000000\t\n",
    "```"
   ]
  },
  {
   "cell_type": "markdown",
   "metadata": {},
   "source": [
    "### 교재 예제 II-3-3"
   ]
  },
  {
   "cell_type": "markdown",
   "metadata": {},
   "source": [
    "```C\n",
    "   double x[3];  \n",
    "   double A[3][4]={{2.0,1.0,-1.0,1.0},{1.0,4.0,1.0,12.0},{2.0,1.0,3.0,13.0}};  \n",
    "```"
   ]
  },
  {
   "cell_type": "markdown",
   "metadata": {},
   "source": [
    "```C\n",
    "x0=1.000000\t\n",
    "x1=2.000000\t\n",
    "x2=3.000000\t\n",
    "```"
   ]
  },
  {
   "cell_type": "code",
   "execution_count": 3,
   "metadata": {},
   "outputs": [
    {
     "name": "stdout",
     "output_type": "stream",
     "text": [
      "x= [1. 2. 3.]\n",
      "Step 1: Normalize row 0:\n",
      "[[ 1.   0.5 -0.5  0.5]\n",
      " [ 1.   4.   1.  12. ]\n",
      " [ 2.   1.   3.  13. ]]\n",
      "Step 1.1: Eliminating row 1, factor = 1.0:\n",
      "[[ 1.   0.5 -0.5  0.5]\n",
      " [ 0.   3.5  1.5 11.5]\n",
      " [ 2.   1.   3.  13. ]]\n",
      "Step 1.2: Eliminating row 2, factor = 2.0:\n",
      "[[ 1.   0.5 -0.5  0.5]\n",
      " [ 0.   3.5  1.5 11.5]\n",
      " [ 0.   0.   4.  12. ]]\n",
      "Step 2: Normalize row 1:\n",
      "[[ 1.          0.5        -0.5         0.5       ]\n",
      " [ 0.          1.          0.42857143  3.28571429]\n",
      " [ 0.          0.          4.         12.        ]]\n",
      "Step 2.0: Eliminating row 0, factor = 0.5:\n",
      "[[ 1.          0.         -0.71428571 -1.14285714]\n",
      " [ 0.          1.          0.42857143  3.28571429]\n",
      " [ 0.          0.          4.         12.        ]]\n",
      "Step 2.2: Eliminating row 2, factor = 0.0:\n",
      "[[ 1.          0.         -0.71428571 -1.14285714]\n",
      " [ 0.          1.          0.42857143  3.28571429]\n",
      " [ 0.          0.          4.         12.        ]]\n",
      "Step 3: Normalize row 2:\n",
      "[[ 1.          0.         -0.71428571 -1.14285714]\n",
      " [ 0.          1.          0.42857143  3.28571429]\n",
      " [ 0.          0.          1.          3.        ]]\n",
      "Step 3.0: Eliminating row 0, factor = -0.7142857142857143:\n",
      "[[1.         0.         0.         1.        ]\n",
      " [0.         1.         0.42857143 3.28571429]\n",
      " [0.         0.         1.         3.        ]]\n",
      "Step 3.1: Eliminating row 1, factor = 0.42857142857142855:\n",
      "[[1. 0. 0. 1.]\n",
      " [0. 1. 0. 2.]\n",
      " [0. 0. 1. 3.]]\n"
     ]
    }
   ],
   "source": [
    "A = np.array([[2,1,-1],[1,4,1],[2,1,3]])\n",
    "B = np.array([[1], [12], [13]])\n",
    "augmented_matrix = np.hstack([A, B])\n",
    "x, logs = Linear_Equation(augmented_matrix).Gauss_Jordan()\n",
    "\n",
    "print('x=',x)\n",
    "print('\\n'.join(logs))"
   ]
  },
  {
   "cell_type": "markdown",
   "metadata": {},
   "source": [
    "### 교재 예제 II-3-4"
   ]
  },
  {
   "cell_type": "markdown",
   "metadata": {},
   "source": [
    "```C\n",
    "   double x[4];  \n",
    "   double A[4][5]={{4.0,3.0,3.0,3.0,13.0},{5.0,6.0,5.0,5.0,21.0}\n",
    "                  ,{6.0,7.0,7.0,6.0,26.0},{7.0,6.0,7.0,8.0,28.0}};   \n",
    "```"
   ]
  },
  {
   "cell_type": "markdown",
   "metadata": {},
   "source": [
    "```C\n",
    "x0=1.000000\t\n",
    "x1=1.000000\t\n",
    "x2=1.000000\t\n",
    "x3=1.000000\t\n",
    "```"
   ]
  },
  {
   "cell_type": "code",
   "execution_count": 4,
   "metadata": {},
   "outputs": [
    {
     "name": "stdout",
     "output_type": "stream",
     "text": [
      "x= [1. 1. 1. 1.]\n",
      "Step 1: Normalize row 0:\n",
      "[[ 1.    0.75  0.75  0.75  3.25]\n",
      " [ 5.    6.    5.    5.   21.  ]\n",
      " [ 6.    7.    7.    6.   26.  ]\n",
      " [ 7.    6.    7.    8.   28.  ]]\n",
      "Step 1.1: Eliminating row 1, factor = 5.0:\n",
      "[[ 1.    0.75  0.75  0.75  3.25]\n",
      " [ 0.    2.25  1.25  1.25  4.75]\n",
      " [ 6.    7.    7.    6.   26.  ]\n",
      " [ 7.    6.    7.    8.   28.  ]]\n",
      "Step 1.2: Eliminating row 2, factor = 6.0:\n",
      "[[ 1.    0.75  0.75  0.75  3.25]\n",
      " [ 0.    2.25  1.25  1.25  4.75]\n",
      " [ 0.    2.5   2.5   1.5   6.5 ]\n",
      " [ 7.    6.    7.    8.   28.  ]]\n",
      "Step 1.3: Eliminating row 3, factor = 7.0:\n",
      "[[1.   0.75 0.75 0.75 3.25]\n",
      " [0.   2.25 1.25 1.25 4.75]\n",
      " [0.   2.5  2.5  1.5  6.5 ]\n",
      " [0.   0.75 1.75 2.75 5.25]]\n",
      "Step 2: Normalize row 1:\n",
      "[[1.         0.75       0.75       0.75       3.25      ]\n",
      " [0.         1.         0.55555556 0.55555556 2.11111111]\n",
      " [0.         2.5        2.5        1.5        6.5       ]\n",
      " [0.         0.75       1.75       2.75       5.25      ]]\n",
      "Step 2.0: Eliminating row 0, factor = 0.75:\n",
      "[[1.         0.         0.33333333 0.33333333 1.66666667]\n",
      " [0.         1.         0.55555556 0.55555556 2.11111111]\n",
      " [0.         2.5        2.5        1.5        6.5       ]\n",
      " [0.         0.75       1.75       2.75       5.25      ]]\n",
      "Step 2.2: Eliminating row 2, factor = 2.5:\n",
      "[[1.         0.         0.33333333 0.33333333 1.66666667]\n",
      " [0.         1.         0.55555556 0.55555556 2.11111111]\n",
      " [0.         0.         1.11111111 0.11111111 1.22222222]\n",
      " [0.         0.75       1.75       2.75       5.25      ]]\n",
      "Step 2.3: Eliminating row 3, factor = 0.75:\n",
      "[[1.         0.         0.33333333 0.33333333 1.66666667]\n",
      " [0.         1.         0.55555556 0.55555556 2.11111111]\n",
      " [0.         0.         1.11111111 0.11111111 1.22222222]\n",
      " [0.         0.         1.33333333 2.33333333 3.66666667]]\n",
      "Step 3: Normalize row 2:\n",
      "[[1.         0.         0.33333333 0.33333333 1.66666667]\n",
      " [0.         1.         0.55555556 0.55555556 2.11111111]\n",
      " [0.         0.         1.         0.1        1.1       ]\n",
      " [0.         0.         1.33333333 2.33333333 3.66666667]]\n",
      "Step 3.0: Eliminating row 0, factor = 0.3333333333333333:\n",
      "[[1.         0.         0.         0.3        1.3       ]\n",
      " [0.         1.         0.55555556 0.55555556 2.11111111]\n",
      " [0.         0.         1.         0.1        1.1       ]\n",
      " [0.         0.         1.33333333 2.33333333 3.66666667]]\n",
      "Step 3.1: Eliminating row 1, factor = 0.5555555555555556:\n",
      "[[1.         0.         0.         0.3        1.3       ]\n",
      " [0.         1.         0.         0.5        1.5       ]\n",
      " [0.         0.         1.         0.1        1.1       ]\n",
      " [0.         0.         1.33333333 2.33333333 3.66666667]]\n",
      "Step 3.3: Eliminating row 3, factor = 1.3333333333333333:\n",
      "[[1.  0.  0.  0.3 1.3]\n",
      " [0.  1.  0.  0.5 1.5]\n",
      " [0.  0.  1.  0.1 1.1]\n",
      " [0.  0.  0.  2.2 2.2]]\n",
      "Step 4: Normalize row 3:\n",
      "[[1.  0.  0.  0.3 1.3]\n",
      " [0.  1.  0.  0.5 1.5]\n",
      " [0.  0.  1.  0.1 1.1]\n",
      " [0.  0.  0.  1.  1. ]]\n",
      "Step 4.0: Eliminating row 0, factor = 0.3:\n",
      "[[1.  0.  0.  0.  1. ]\n",
      " [0.  1.  0.  0.5 1.5]\n",
      " [0.  0.  1.  0.1 1.1]\n",
      " [0.  0.  0.  1.  1. ]]\n",
      "Step 4.1: Eliminating row 1, factor = 0.5:\n",
      "[[1.  0.  0.  0.  1. ]\n",
      " [0.  1.  0.  0.  1. ]\n",
      " [0.  0.  1.  0.1 1.1]\n",
      " [0.  0.  0.  1.  1. ]]\n",
      "Step 4.2: Eliminating row 2, factor = 0.10000000000000003:\n",
      "[[1. 0. 0. 0. 1.]\n",
      " [0. 1. 0. 0. 1.]\n",
      " [0. 0. 1. 0. 1.]\n",
      " [0. 0. 0. 1. 1.]]\n"
     ]
    }
   ],
   "source": [
    "import numpy as np\n",
    "\n",
    "A = np.array([\n",
    "    [4,3,3,3],\n",
    "    [5,6,5,5],\n",
    "    [6,7,7,6],\n",
    "    [7,6,7,8]\n",
    "])\n",
    "B = np.array([\n",
    "    [13],\n",
    "    [21],\n",
    "    [26],\n",
    "    [28]\n",
    "])\n",
    "augmented_matrix = np.hstack([A, B])\n",
    "x, logs = Linear_Equation(augmented_matrix).Gauss_Jordan()\n",
    "\n",
    "print('x=',x)\n",
    "print('\\n'.join(logs))"
   ]
  },
  {
   "cell_type": "markdown",
   "metadata": {},
   "source": [
    "### Chapra Ch.8 8.3 CASE STUDY"
   ]
  },
  {
   "attachments": {
    "image.png": {
     "image/png": "[encoded data removed]"
    }
   },
   "cell_type": "markdown",
   "metadata": {},
   "source": [
    "![image.png](attachment:image.png)"
   ]
  },
  {
   "cell_type": "markdown",
   "metadata": {},
   "source": [
    "$$\n",
    "\\text{Currents}\\\\\n",
    "\\begin{cases}\n",
    "i_{12}+i_{52}+i_{32}=0\\\\\n",
    "i_{65}-i_{52}-i_{54}=0\\\\\n",
    "i_{43}-i_{32}=0\\\\\n",
    "i_{54}-i_{43}=0\n",
    "\\end{cases}\n",
    "$$"
   ]
  },
  {
   "cell_type": "markdown",
   "metadata": {},
   "source": [
    "$$\n",
    "\\text{Voltages}\\\\\n",
    "\\begin{cases}\n",
    "-i_{54}R_{54}-i_{43}R_{43}-i_{32}R_{32}+i_{52}R_{52}=0\\\\\n",
    "-i_{65}R_{65}- i_{52}R_{52} + i_{12}R_{12} -200 =0\n",
    "\\end{cases}\n",
    "$$"
   ]
  },
  {
   "cell_type": "markdown",
   "metadata": {},
   "source": [
    "$$\n",
    "\\begin{aligned}\n",
    "\\begin{bmatrix}\n",
    "1&1&1&0&0&0\\\\\n",
    "0&-1&0&1&-1&0\\\\\n",
    "0&0&-1&0&0&1\\\\\n",
    "0&0&0&0&1&-1\\\\\n",
    "0&10&-10&0&-15&-5\\\\\n",
    "5&-10&0&-20&0&0\n",
    "\\end{bmatrix}\n",
    "\\begin{bmatrix}\n",
    "i_{12}\\\\i_{52}\\\\i_{32}\\\\i_{65}\\\\i_{54}\\\\i_{43}\n",
    "\\end{bmatrix}\n",
    "=\n",
    "\\begin{bmatrix}\n",
    "0\\\\0\\\\0\\\\0\\\\0\\\\200\n",
    "\\end{bmatrix}\n",
    "\\end{aligned}\n",
    "$$"
   ]
  },
  {
   "cell_type": "code",
   "execution_count": 5,
   "metadata": {},
   "outputs": [
    {
     "ename": "ZeroDivisionError",
     "evalue": "Pivot element is zero. The system cannot be solved.",
     "output_type": "error",
     "traceback": [
      "\u001b[1;31m---------------------------------------------------------------------------\u001b[0m",
      "\u001b[1;31mZeroDivisionError\u001b[0m                         Traceback (most recent call last)",
      "Cell \u001b[1;32mIn[5], line 12\u001b[0m\n\u001b[0;32m     10\u001b[0m B \u001b[38;5;241m=\u001b[39m np\u001b[38;5;241m.\u001b[39marray([\u001b[38;5;241m0\u001b[39m,\u001b[38;5;241m0\u001b[39m,\u001b[38;5;241m0\u001b[39m,\u001b[38;5;241m0\u001b[39m,\u001b[38;5;241m0\u001b[39m,\u001b[38;5;241m200\u001b[39m])\u001b[38;5;241m.\u001b[39mreshape(\u001b[38;5;241m-\u001b[39m\u001b[38;5;241m1\u001b[39m,\u001b[38;5;241m1\u001b[39m)\n\u001b[0;32m     11\u001b[0m augmented_matrix \u001b[38;5;241m=\u001b[39m np\u001b[38;5;241m.\u001b[39mhstack([A, B])\n\u001b[1;32m---> 12\u001b[0m x, logs \u001b[38;5;241m=\u001b[39m \u001b[43mLinear_Equation\u001b[49m\u001b[43m(\u001b[49m\u001b[43maugmented_matrix\u001b[49m\u001b[43m)\u001b[49m\u001b[38;5;241;43m.\u001b[39;49m\u001b[43mGauss_Jordan\u001b[49m\u001b[43m(\u001b[49m\u001b[43m)\u001b[49m\n\u001b[0;32m     14\u001b[0m \u001b[38;5;28mprint\u001b[39m(\u001b[38;5;124m'\u001b[39m\u001b[38;5;124mx=\u001b[39m\u001b[38;5;124m'\u001b[39m,x)\n\u001b[0;32m     15\u001b[0m \u001b[38;5;28mprint\u001b[39m(\u001b[38;5;124m'\u001b[39m\u001b[38;5;130;01m\\n\u001b[39;00m\u001b[38;5;124m'\u001b[39m\u001b[38;5;241m.\u001b[39mjoin(logs))\n",
      "File \u001b[1;32mc:\\Users\\USER\\OneDrive\\바탕 화면\\2024_2학기\\수치해석\\강의노트\\Linear_Equation.py:69\u001b[0m, in \u001b[0;36mLinear_Equation.Gauss_Jordan\u001b[1;34m(self)\u001b[0m\n\u001b[0;32m     67\u001b[0m \u001b[38;5;28;01mfor\u001b[39;00m j \u001b[38;5;129;01min\u001b[39;00m \u001b[38;5;28mrange\u001b[39m(n):\n\u001b[0;32m     68\u001b[0m     \u001b[38;5;28;01mif\u001b[39;00m augmented_matrix[j, j] \u001b[38;5;241m==\u001b[39m \u001b[38;5;241m0\u001b[39m:\n\u001b[1;32m---> 69\u001b[0m         \u001b[38;5;28;01mraise\u001b[39;00m \u001b[38;5;167;01mZeroDivisionError\u001b[39;00m(\u001b[38;5;124m\"\u001b[39m\u001b[38;5;124mPivot element is zero. The system cannot be solved.\u001b[39m\u001b[38;5;124m\"\u001b[39m)\n\u001b[0;32m     70\u001b[0m     augmented_matrix[j] \u001b[38;5;241m/\u001b[39m\u001b[38;5;241m=\u001b[39m augmented_matrix[j, j]\n\u001b[0;32m     71\u001b[0m     logs\u001b[38;5;241m.\u001b[39mappend(\u001b[38;5;124mf\u001b[39m\u001b[38;5;124m\"\u001b[39m\u001b[38;5;124mStep \u001b[39m\u001b[38;5;132;01m{\u001b[39;00mj\u001b[38;5;241m+\u001b[39m\u001b[38;5;241m1\u001b[39m\u001b[38;5;132;01m}\u001b[39;00m\u001b[38;5;124m: Normalize row \u001b[39m\u001b[38;5;132;01m{\u001b[39;00mj\u001b[38;5;132;01m}\u001b[39;00m\u001b[38;5;124m:\u001b[39m\u001b[38;5;130;01m\\n\u001b[39;00m\u001b[38;5;132;01m{\u001b[39;00maugmented_matrix\u001b[38;5;132;01m}\u001b[39;00m\u001b[38;5;124m\"\u001b[39m)\n",
      "\u001b[1;31mZeroDivisionError\u001b[0m: Pivot element is zero. The system cannot be solved."
     ]
    }
   ],
   "source": [
    "import numpy as np\n",
    "A = np.array([\n",
    "    [1,1,1,0,0,0],\n",
    "    [0,-1,0,1,-1,0],\n",
    "    [0,0,-1,0,0,1],\n",
    "    [0,0,0,0,1,-1],\n",
    "    [0,10,-10,0,-15,-5],\n",
    "    [5,-10,0,-20,0,0]\n",
    "])\n",
    "B = np.array([0,0,0,0,0,200]).reshape(-1,1)\n",
    "augmented_matrix = np.hstack([A, B])\n",
    "x, logs = Linear_Equation(augmented_matrix).Gauss_Jordan()\n",
    "\n",
    "print('x=',x)\n",
    "print('\\n'.join(logs))"
   ]
  },
  {
   "cell_type": "markdown",
   "metadata": {},
   "source": [
    "원래 행렬을 그대로 가우스 소거법 프로그램에 넣으면 대각선 항에 0이 들어가 계산이 안된다. 행을 바꿔야 한다."
   ]
  },
  {
   "cell_type": "markdown",
   "metadata": {},
   "source": [
    "```C\n",
    "   double x[6];  \n",
    "   double A[6][7]={\n",
    "    {1,1,1,0,0,0,0},\n",
    "    {0,-1,0,1,-1,0,0},\n",
    "    {0,0,-1,0,0,1,0},\n",
    "    {0,10,-10,0,-15,-5,0},\n",
    "    {5,-10,0,-20,0,0,200},\n",
    "    {0,0,0,0,1,-1,0}\n",
    "   };  \n",
    "\n",
    "\n",
    "main()\n",
    "{\n",
    "    int i,j,k,n;\n",
    "    double c,sum;\n",
    "    n=5;\n",
    "```"
   ]
  },
  {
   "cell_type": "markdown",
   "metadata": {},
   "source": [
    "```C\n",
    "x0=6.153846\t\n",
    "x1=-4.615385\t\n",
    "x2=-1.538462\t\n",
    "x3=-6.153846\t\n",
    "x4=-1.538462\t\n",
    "x5=-1.538462\t\n",
    "```"
   ]
  },
  {
   "cell_type": "markdown",
   "metadata": {},
   "source": [
    "음수는 전류의 방향을 나타내는 것이다."
   ]
  },
  {
   "cell_type": "markdown",
   "metadata": {},
   "source": [
    "## Banded Matrix or Tri-Diagonal Matrix Solving\n",
    "\n",
    "교재 103페이지"
   ]
  },
  {
   "cell_type": "markdown",
   "metadata": {},
   "source": [
    "n개의 미지수, n개의 방정식 전제"
   ]
  },
  {
   "cell_type": "markdown",
   "metadata": {},
   "source": [
    "$$\n",
    "\\begin{aligned}\n",
    "\\begin{cases}\n",
    "b_1x_1 + c_1x_2=r_1 \\\\ \n",
    "a_2x_1 + b_2x_2 + c_2x_3 = r_2\\\\\n",
    "\\vdots\\\\\n",
    "a_{n-1}x_{n-2} + b_{n-1}x_{n-1} + c_{n-1}x_{n} = r_{n-1}\\\\\n",
    "a_nx_{n-1}+b_nx_n =r_n\n",
    "\\end{cases}\n",
    "\\to\n",
    "\\begin{bmatrix}\n",
    "b_1&c_1&0&\\cdots & 0\\\\\n",
    "a_2&b_2&c_2&\\cdots & 0\\\\\n",
    "\\vdots&\\vdots&\\vdots&\\ddots&\\vdots\\\\\n",
    "0&\\cdots&a_{n-1}&b_{n-1}&c_{n-1}\\\\\n",
    "0&\\cdots&\\cdots&a_n&b_n\n",
    "\\end{bmatrix}\n",
    "\\begin{bmatrix}\n",
    "x_1\\\\x_2\\\\ \\vdots\\\\ x_{n-1}\\\\ x_n\n",
    "\\end{bmatrix}\n",
    "=\n",
    "\\begin{bmatrix}\n",
    "r_1 \\\\ r_2 \\\\ \\vdots \\\\ r_{n-1} \\\\ r_n\n",
    "\\end{bmatrix}\n",
    "\\end{aligned}\n",
    "$$"
   ]
  },
  {
   "cell_type": "markdown",
   "metadata": {},
   "source": [
    "이는 가우스 소거법으로도 풀이할 수 있다. "
   ]
  },
  {
   "cell_type": "markdown",
   "metadata": {},
   "source": [
    "### 가우스 소거법의 경우:\n",
    "\n",
    "먼저 주어진 행렬 방정식은 다음과 같습니다:\n",
    "\n",
    "$$\n",
    "\\begin{bmatrix}\n",
    "b_1 & c_1 & 0   & 0      & \\cdots & 0        \\\\\n",
    "a_2 & b_2 & c_2 & 0      & \\cdots & 0        \\\\\n",
    "0   & a_3 & b_3 & c_3    & \\cdots & 0        \\\\\n",
    "0   & 0   & a_4 & b_4    & \\cdots & 0        \\\\\n",
    "\\vdots & \\vdots & \\vdots & \\vdots & \\ddots & \\vdots \\\\\n",
    "0   & 0   & 0   & 0      & \\cdots & b_n\n",
    "\\end{bmatrix}\n",
    "\\begin{bmatrix}\n",
    "x_1 \\\\\n",
    "x_2 \\\\\n",
    "x_3 \\\\\n",
    "x_4 \\\\\n",
    "\\vdots \\\\\n",
    "x_n\n",
    "\\end{bmatrix}\n",
    "=\n",
    "\\begin{bmatrix}\n",
    "r_1 \\\\\n",
    "r_2 \\\\\n",
    "r_3 \\\\\n",
    "r_4 \\\\\n",
    "\\vdots \\\\\n",
    "r_n\n",
    "\\end{bmatrix}\n",
    "$$\n",
    "\n",
    "### 1. 첫 번째 열을 소거\n",
    "\n",
    "첫 번째 행을 기준으로 두 번째 행의 첫 번째 원소 $a_2$를 소거해야 합니다. 이를 위해, 첫 번째 행을 $\\frac{a_2}{b_1}$배 하여 두 번째 행에서 빼는 연산을 수행합니다.\n",
    "\n",
    "두 번째 행은 다음과 같이 변형됩니다:\n",
    "\n",
    "$$\n",
    "R_2 = R_2 - \\frac{a_2}{b_1} R_1\n",
    "$$\n",
    "\n",
    "이후의 행렬 방정식은 다음과 같습니다:\n",
    "\n",
    "$$\n",
    "\\begin{bmatrix}\n",
    "b_1 & c_1 & 0   & 0      & \\cdots & 0        \\\\\n",
    "0   & b_2 - \\frac{a_2 c_1}{b_1} & c_2 & 0      & \\cdots & 0        \\\\\n",
    "0   & a_3 & b_3 & c_3    & \\cdots & 0        \\\\\n",
    "0   & 0   & a_4 & b_4    & \\cdots & 0        \\\\\n",
    "\\vdots & \\vdots & \\vdots & \\vdots & \\ddots & \\vdots \\\\\n",
    "0   & 0   & 0   & 0      & \\cdots & b_n\n",
    "\\end{bmatrix}\n",
    "\\begin{bmatrix}\n",
    "x_1 \\\\\n",
    "x_2 \\\\\n",
    "x_3 \\\\\n",
    "x_4 \\\\\n",
    "\\vdots \\\\\n",
    "x_n\n",
    "\\end{bmatrix}\n",
    "=\n",
    "\\begin{bmatrix}\n",
    "r_1 \\\\\n",
    "r_2 - \\frac{a_2}{b_1} r_1 \\\\\n",
    "r_3 \\\\\n",
    "r_4 \\\\\n",
    "\\vdots \\\\\n",
    "r_n\n",
    "\\end{bmatrix}\n",
    "$$\n",
    "\n",
    "### 2. 두 번째 열을 소거\n",
    "\n",
    "두 번째 행을 기준으로 세 번째 행의 두 번째 원소 $a_3$를 소거합니다. 이를 위해, 두 번째 행을 $\\frac{a_3}{b_2 - \\frac{a_2 c_1}{b_1}}$배 하여 세 번째 행에서 빼는 연산을 수행합니다.\n",
    "\n",
    "세 번째 행은 다음과 같이 변형됩니다:\n",
    "\n",
    "$$\n",
    "R_3 = R_3 - \\frac{a_3}{b_2 - \\frac{a_2 c_1}{b_1}} R_2\n",
    "$$\n",
    "\n",
    "이후의 행렬 방정식은 다음과 같습니다:\n",
    "\n",
    "$$\n",
    "\\begin{bmatrix}\n",
    "b_1 & c_1 & 0   & 0      & \\cdots & 0        \\\\\n",
    "0   & b_2 - \\frac{a_2 c_1}{b_1} & c_2 & 0      & \\cdots & 0        \\\\\n",
    "0   & 0   & b_3 - \\frac{a_3 c_2}{b_2 - \\frac{a_2 c_1}{b_1}} & c_3    & \\cdots & 0        \\\\\n",
    "0   & 0   & a_4 & b_4    & \\cdots & 0        \\\\\n",
    "\\vdots & \\vdots & \\vdots & \\vdots & \\ddots & \\vdots \\\\\n",
    "0   & 0   & 0   & 0      & \\cdots & b_n\n",
    "\\end{bmatrix}\n",
    "\\begin{bmatrix}\n",
    "x_1 \\\\\n",
    "x_2 \\\\\n",
    "x_3 \\\\\n",
    "x_4 \\\\\n",
    "\\vdots \\\\\n",
    "x_n\n",
    "\\end{bmatrix}\n",
    "=\n",
    "\\begin{bmatrix}\n",
    "r_1 \\\\\n",
    "r_2 - \\frac{a_2}{b_1} r_1 \\\\\n",
    "r_3 - \\frac{a_3}{b_2 - \\frac{a_2 c_1}{b_1}} \\left(r_2 - \\frac{a_2}{b_1} r_1\\right) \\\\\n",
    "r_4 \\\\\n",
    "\\vdots \\\\\n",
    "r_n\n",
    "\\end{bmatrix}\n",
    "$$\n",
    "\n",
    "### 3. 세 번째 열을 소거\n",
    "\n",
    "세 번째 행을 기준으로 네 번째 행의 세 번째 원소 $a_4$를 소거합니다. 이를 위해, 세 번째 행을 $\\frac{a_4}{b_3 - \\frac{a_3 c_2}{b_2 - \\frac{a_2 c_1}{b_1}}}$배 하여 네 번째 행에서 빼는 연산을 수행합니다.\n",
    "\n",
    "네 번째 행은 다음과 같이 변형됩니다:\n",
    "\n",
    "$$\n",
    "R_4 = R_4 - \\frac{a_4}{b_3 - \\frac{a_3 c_2}{b_2 - \\frac{a_2 c_1}{b_1}}} R_3\n",
    "$$\n",
    "\n",
    "이후의 행렬 방정식은 다음과 같습니다:\n",
    "\n",
    "$$\n",
    "\\begin{bmatrix}\n",
    "b_1 & c_1 & 0   & 0      & \\cdots & 0        \\\\\n",
    "0   & b_2 - \\frac{a_2 c_1}{b_1} & c_2 & 0      & \\cdots & 0        \\\\\n",
    "0   & 0   & b_3 - \\frac{a_3 c_2}{b_2 - \\frac{a_2 c_1}{b_1}} & c_3    & \\cdots & 0        \\\\\n",
    "0   & 0   & 0   & b_4 - \\frac{a_4 c_3}{b_3 - \\frac{a_3 c_2}{b_2 - \\frac{a_2 c_1}{b_1}}}    & \\cdots & 0        \\\\\n",
    "\\vdots & \\vdots & \\vdots & \\vdots & \\ddots & \\vdots \\\\\n",
    "0   & 0   & 0   & 0      & \\cdots & b_n\n",
    "\\end{bmatrix}\n",
    "\\begin{bmatrix}\n",
    "x_1 \\\\\n",
    "x_2 \\\\\n",
    "x_3 \\\\\n",
    "x_4 \\\\\n",
    "\\vdots \\\\\n",
    "x_n\n",
    "\\end{bmatrix}\n",
    "=\n",
    "\\begin{bmatrix}\n",
    "r_1 \\\\\n",
    "r_2 - \\frac{a_2}{b_1} r_1 \\\\\n",
    "r_3 - \\frac{a_3}{b_2 - \\frac{a_2 c_1}{b_1}} \\left(r_2 - \\frac{a_2}{b_1} r_1\\right) \\\\\n",
    "r_4 - \\frac{a_4}{b_3 - \\frac{a_3 c_2}{b_2 - \\frac{a_2 c_1}{b_1}}} \\left(r_3 - \\frac{a_3}{b_2 - \\frac{a_2 c_1}{b_1}} \\left(r_2 - \\frac{a_2}{b_1} r_1\\right)\\right) \\\\\n",
    "\\vdots \\\\\n",
    "r_n\n",
    "\\end{bmatrix}\n",
    "$$\n",
    "\n",
    "### 4. 일반화된 소거 과정\n",
    "\n",
    "이 과정을 반복하여, $n$번째 행까지 소거해 나가면, 마지막에는 상삼각 행렬 형태로 바뀝니다. 일반화된 소거 과정에서 각 번째 행에 대해 $i$-번째 열의 계수 $a_{i+1}$을 소거하려면, 다음과 같은 형태로 변환됩니다:\n",
    "\n",
    "$$\n",
    "R_{i+1} = R_{i+1} - \\frac{a_{i+1}}{b_i'} R_i\n",
    "$$\n",
    "\n",
    "이때 $b_i'$는 변환된 $i$-번째 행의 주대각 원소입니다.\n",
    "\n",
    "### 5. 상삼각 행렬\n",
    "\n",
    "\n",
    "\n",
    "최종적으로, 상삼각 행렬은 다음과 같은 형태가 됩니다:\n",
    "\n",
    "$$\n",
    "\\begin{bmatrix}\n",
    "b_1 & c_1 & 0   & 0      & \\cdots & 0        \\\\\n",
    "0   & b_2' & c_2' & 0      & \\cdots & 0        \\\\\n",
    "0   & 0   & b_3' & c_3'    & \\cdots & 0        \\\\\n",
    "0   & 0   & 0   & b_4'    & \\cdots & 0        \\\\\n",
    "\\vdots & \\vdots & \\vdots & \\vdots & \\ddots & \\vdots \\\\\n",
    "0   & 0   & 0   & 0      & \\cdots & b_n'\n",
    "\\end{bmatrix}\n",
    "\\begin{bmatrix}\n",
    "x_1 \\\\\n",
    "x_2 \\\\\n",
    "x_3 \\\\\n",
    "x_4 \\\\\n",
    "\\vdots \\\\\n",
    "x_n\n",
    "\\end{bmatrix}\n",
    "=\n",
    "\\begin{bmatrix}\n",
    "r_1' \\\\\n",
    "r_2' \\\\\n",
    "r_3' \\\\\n",
    "r_4' \\\\\n",
    "\\vdots \\\\\n",
    "r_n'\n",
    "\\end{bmatrix}\n",
    "$$\n",
    "\n",
    "여기서, 각 $b_i'$와 $r_i'$는 소거 과정을 거친 후의 값들입니다.\n",
    "\n",
    "### 6. 역 대입 (Back Substitution)\n",
    "\n",
    "이제 상삼각 행렬로 변환된 시스템을 역 대입(back substitution)하여 해를 구합니다:\n",
    "\n",
    "- 마지막 방정식에서 $x_n$을 구합니다.\n",
    "- $x_n$ 값을 이용해 $x_{n-1}$을 구하고, 이를 반복하여 $x_1$까지 계산합니다.\n",
    "\n",
    "최종적으로 각 미지수 $x_1, x_2, \\dots, x_n$을 구할 수 있습니다."
   ]
  },
  {
   "cell_type": "markdown",
   "metadata": {},
   "source": [
    "## Tri-Diagonal Matrix Algorithm, TDMA\n",
    "\n",
    "삼중 대각 행렬 방정식은 다음과 같은 형태를 가집니다:\n",
    "\n",
    "$$\n",
    "\\begin{aligned}\n",
    "b_1 x_1 + c_1 x_2 &= r_1 \\\\\n",
    "a_2 x_1 + b_2 x_2 + c_2 x_3 &= r_2 \\\\\n",
    "a_3 x_2 + b_3 x_3 + c_3 x_4 &= r_3 \\\\\n",
    "&\\vdots \\\\\n",
    "a_n x_{n-1} + b_n x_n &= r_n\n",
    "\\end{aligned}\n",
    "$$\n",
    "\n",
    "행렬로 표현하면:\n",
    "\n",
    "$$\n",
    "\\begin{bmatrix}\n",
    "b_1 & c_1 & 0   & 0   & \\cdots & 0   \\\\\n",
    "a_2 & b_2 & c_2 & 0   & \\cdots & 0   \\\\\n",
    "0   & a_3 & b_3 & c_3 & \\cdots & 0   \\\\\n",
    "\\vdots & \\vdots & \\vdots & \\vdots & \\ddots & \\vdots \\\\\n",
    "0   & 0   & 0   & a_n & b_n\n",
    "\\end{bmatrix}\n",
    "\\begin{bmatrix}\n",
    "x_1 \\\\\n",
    "x_2 \\\\\n",
    "x_3 \\\\\n",
    "\\vdots \\\\\n",
    "x_n\n",
    "\\end{bmatrix}\n",
    "=\n",
    "\\begin{bmatrix}\n",
    "r_1 \\\\\n",
    "r_2 \\\\\n",
    "r_3 \\\\\n",
    "\\vdots \\\\\n",
    "r_n\n",
    "\\end{bmatrix}\n",
    "$$\n",
    "\n",
    "이때, TDMA는 이 삼중 대각 행렬을 효율적으로 풀기 위해 두 가지 단계를 거칩니다:\n",
    "1. **Forward Elimination (전방 소거)**\n",
    "2. **Backward Substitution (후방 대입)**\n",
    "\n",
    "---\n",
    "\n",
    "## 1. **Forward Elimination (전방 소거)**\n",
    "\n",
    "첫 번째 단계는 주대각 행렬의 원소들을 차례로 소거하는 과정입니다. 각 행의 미지수를 소거하면서 삼각화하여 상삼각 행렬을 만들어줍니다.\n",
    "\n",
    "### Step 1: 초기화\n",
    "\n",
    "주어진 방정식을 다음의 변수로 정의합니다:\n",
    "- $a_i$: 삼중 대각 행렬의 하부 대각선 원소들.\n",
    "- $b_i$: 삼중 대각 행렬의 주대각선 원소들.\n",
    "- $c_i$: 삼중 대각 행렬의 상부 대각선 원소들.\n",
    "- $r_i$: 우변 벡터의 값들.\n",
    "\n",
    "우리는 이 원소들을 변형하여 새로운 값들 $b'_i$와 $r'_i$를 계산하게 됩니다.\n",
    "\n",
    "### Step 2: 재귀적으로 새로운 계수를 계산\n",
    "\n",
    "각 행에 대해 새로운 계수를 정의합니다:\n",
    "- $c'_i =c_i$: 소거 안함\n",
    "- $r'_i = r_i - \\frac{a_i }{b'_{i-1}}r'_{i-1}$\n",
    "\n",
    "이때:\n",
    "- 첫 번째 행은 $b_1$에 대해 변형하지 않고 그대로 사용:\n",
    "  $$\n",
    "  b'_1 = b_1, \\quad r'_1 = r_1\n",
    "  $$\n",
    "- 두 번째 행부터는 다음과 같이 계산합니다:\n",
    "  $$\n",
    "  b'_i =  b_i - \\frac{a_i }{b'_{i-1}}c_{i-1}\n",
    "  $$\n",
    "  $$\n",
    "  r'_i = r_i - \\frac{a_i }{b'_{i-1}}r'_{i-1}\n",
    "  $$\n",
    "\n",
    "### 전방 소거 계산 예시\n",
    "\n",
    "첫 번째 행:\n",
    "\n",
    "$$\n",
    "b'_1 = b_1, \\quad r'_1 = r_1\n",
    "$$\n",
    "\n",
    "두 번째 행:\n",
    "\n",
    "$$\n",
    "b'_2 = b_2 - a_2 \\frac{c_1}{b_1}\n",
    "$$\n",
    "$$\n",
    "r'_2 = r_2 - \\frac{a_2 r_1}{b'_1}\n",
    "$$\n",
    "\n",
    "세 번째 행:\n",
    "\n",
    "$$\n",
    "b'_3 = b_3 - a_3 \\frac{c_2}{b'_2}\n",
    "$$\n",
    "$$\n",
    "r'_3 = r_3 - \\frac{a_3 r'_2}{b'_2}\n",
    "$$\n",
    "\n",
    "이 과정을 마지막 행까지 반복하여 상삼각 행렬 형태로 변환합니다.\n",
    "\n",
    "---\n",
    "\n",
    "## 2. **Backward Substitution (후방 대입)**\n",
    "\n",
    "이제 상삼각 행렬이 되었으므로, 마지막 방정식부터 차례대로 미지수를 구하는 후방 대입을 수행합니다.\n",
    "\n",
    "### Step 1: 마지막 미지수 $x_n$ 구하기\n",
    "\n",
    "마지막 방정식에서 $x_n$을 구합니다:\n",
    "$$\n",
    "x_n = \\frac{r'_n}{b'_n}\n",
    "$$\n",
    "\n",
    "### Step 2: 차례대로 이전 미지수 구하기\n",
    "\n",
    "차례대로 이전 방정식으로 역대입하여 $x_{n-1}, x_{n-2}, \\dots, x_1$을 구합니다. 일반적으로:\n",
    "$$\n",
    "x_i = \\frac{r'_i - c'_i x_{i+1}}{b_i'}\n",
    "$$\n",
    "\n",
    "예를 들어, $x_{n-1}$은 다음과 같이 계산됩니다:\n",
    "$$\n",
    "x_{n-1} = \\frac{r'_{n-1} - c'_{n-1} x_n}{b_{n-1}'}\n",
    "$$\n",
    "\n",
    "그 이전 $x_{n-2}$는:\n",
    "$$\n",
    "x_{n-2} = \\frac{r'_{n-2} - c'_{n-2} x_{n-1}}{b_{n-2}'}\n",
    "$$\n",
    "\n",
    "이 과정을 $x_1$까지 반복합니다.\n",
    "\n",
    "---\n",
    "\n",
    "## 요약\n",
    "\n",
    "1. **전방 소거 (Forward Elimination)**:\n",
    "   - 삼중 대각 행렬을 상삼각 행렬로 변환.\n",
    "   - 새로운 계수 $b'_i$, $r'_i$, $c'_i$를 계산.\n",
    "\n",
    "2. **후방 대입 (Backward Substitution)**:\n",
    "   - 마지막 행에서부터 미지수를 차례로 계산.\n",
    "\n",
    "---\n",
    "\n",
    "이 과정은 대칭성이나 특별한 구조를 가진 삼중 대각 행렬에 매우 효율적이며, 가우스 소거법보다 계산량이 적어 성능이 뛰어납니다. TDMA를 적용하면 대규모 문제에서도 빠르게 해를 구할 수 있습니다."
   ]
  },
  {
   "cell_type": "markdown",
   "metadata": {},
   "source": [
    "### 교재 예제 II-3-2"
   ]
  },
  {
   "cell_type": "markdown",
   "metadata": {},
   "source": [
    "#### 가우스 소거법"
   ]
  },
  {
   "cell_type": "markdown",
   "metadata": {},
   "source": [
    "가우스 소거법의 계산량은 $O(n^3)$, 가우스-조던 소거법도 동일.  \n",
    "Cramer's Rule로 풀면 $O(n^4)$이다."
   ]
  },
  {
   "cell_type": "markdown",
   "metadata": {},
   "source": [
    "```C\n",
    "#include<stdio.h>\n",
    "#include<math.h>\n",
    "\n",
    "\n",
    "   double x[10];  \n",
    "   double A[10][11]={{-3.0,1.0,0.0,0.0,0.0,0.0,0.0,0.0,0.0,0.0,-2.5},\n",
    "                     {1.0,-3.0,1.0,0.0,0.0,0.0,0.0,0.0,0.0,0.0,-5.5},\n",
    "\t\t\t\t\t {0.0,1.0,-3.0,1.0,0.0,0.0,0.0,0.0,0.0,0.0,-5.5},\n",
    "\t\t\t\t\t {0.0,0.0,1.0,-3.0,1.0,0.0,0.0,0.0,0.0,0.0,-5.5},\n",
    "\t\t\t\t\t {0.0,0.0,0.0,1.0,-3.0,1.0,0.0,0.0,0.0,0.0,-5.5},\n",
    "\t\t\t\t\t {0.0,0.0,0.0,0.0,1.0,-3.0,1.0,0.0,0.0,0.0,-5.5},\n",
    "\t\t\t\t\t {0.0,0.0,0.0,0.0,0.0,1.0,-3.0,1.0,0.0,0.0,-5.5},\n",
    "\t\t\t\t\t {0.0,0.0,0.0,0.0,0.0,0.0,1.0,-3.0,1.0,0.0,-5.5},\n",
    "\t\t\t\t\t {0.0,0.0,0.0,0.0,0.0,0.0,0.0,1.0,-3.0,1.0,-5.5},\n",
    "\t\t\t\t\t {0.0,0.0,0.0,0.0,0.0,0.0,0.0,0.0,1.0,-3.0,2.5},};  \n",
    "\n",
    "\n",
    "main()\n",
    "{\n",
    "    int i,j,k,n;\n",
    "    double c,sum;\n",
    "    n=9;\n",
    "```"
   ]
  },
  {
   "cell_type": "markdown",
   "metadata": {},
   "source": [
    "```C\n",
    "x0 = 2.252527\t\n",
    "x1 = 4.257580\t\n",
    "x2 = 5.020213\t\n",
    "x3 = 5.303060\t\n",
    "x4 = 5.388967\t\n",
    "x5 = 5.363842\t\n",
    "x6 = 5.202558\t\n",
    "x7 = 4.743832\t\n",
    "x8 = 3.528937\t\n",
    "x9 = 0.342979\t\n",
    "```"
   ]
  },
  {
   "cell_type": "markdown",
   "metadata": {},
   "source": [
    "#### 토마스 알고리즘 또는 TDMA"
   ]
  },
  {
   "cell_type": "markdown",
   "metadata": {},
   "source": [
    "TDMA의 계산량은 $O(n)$으로 매우 효율적"
   ]
  },
  {
   "cell_type": "markdown",
   "metadata": {},
   "source": [
    "```C\n",
    "   double x[10];  \n",
    "   double a[10] = {1.0,1.0,1.0,1.0,1.0,1.0,1.0,1.0,1.0,1.0};               \n",
    "   double b[10] = {-3.0,-3.0,-3.0,-3.0,-3.0,-3.0,-3.0,-3.0,-3.0,-3.0};                  \n",
    "   double c[10] = {1.0,1.0,1.0,1.0,1.0,1.0,1.0,1.0,1.0,1.0};               \n",
    "   double r[10] = {-2.5,-5.5,-5.5,-5.5,-5.5,-5.5,-5.5,-5.5,-5.5,2.5};                 \n",
    "                                                     \n",
    "\n",
    "\n",
    "main()\n",
    "{\n",
    "    int i,j,k,n;\n",
    "    double factor,sum;\n",
    "    n=9;                /* in array, total number of elements in row or column - 1 */\n",
    "```"
   ]
  },
  {
   "cell_type": "markdown",
   "metadata": {},
   "source": [
    "```C\n",
    "x0 = 2.252527\t  \n",
    "x1 = 4.257580\t  \n",
    "x2 = 5.020213\t  \n",
    "x3 = 5.303060\t  \n",
    "x4 = 5.388967\t  \n",
    "x5 = 5.363842\t  \n",
    "x6 = 5.202558\t  \n",
    "x7 = 4.743832\t  \n",
    "x8 = 3.528937\t  \n",
    "x9 = 0.342979\t\n",
    "```"
   ]
  },
  {
   "cell_type": "markdown",
   "metadata": {},
   "source": [
    "## Inverse Matrix Method, 역행렬 방법"
   ]
  },
  {
   "cell_type": "markdown",
   "metadata": {},
   "source": [
    "$$\n",
    "\\mathbf{A}_{n\\times n}\\vec{x}_{n\\times 1}=\\vec{B}_{n\\times 1} \\to \\mathbf{A}^{-1}\\mathbf{A}\\vec{x} = \\mathbf{A}^{-1}\\vec{B}\\to \\vec{x} = \\mathbf{A}^{-1}\\vec{B}\n",
    "$$"
   ]
  },
  {
   "cell_type": "markdown",
   "metadata": {},
   "source": [
    "역행렬 구하는 법:\n",
    "\n",
    "1. 원래의 계수행렬에 항등행렬을 붙여 확장행렬(Augmented Matrix)을 만든다.\n",
    "$$\n",
    "[\\mathbf{A}_{n\\times n}| \\mathbf{I}_{n\\times n}]_{n\\times 2n}\n",
    "$$"
   ]
  },
  {
   "cell_type": "markdown",
   "metadata": {},
   "source": [
    "2. 여기에 $\\mathbf{A}^{-1}$을 곱하면, 좌측은 항등행렬이 되고 우측은 역행렬이 그대로 남는다."
   ]
  },
  {
   "cell_type": "markdown",
   "metadata": {},
   "source": [
    "$$\n",
    "\\mathbf{A}^{-1}\n",
    "\\begin{bmatrix}\n",
    "a_{11}&a_{12}&a_{13}|1&0&0 \\\\a_{21}&a_{22}&a_{23}|0&1&0\\\\a_{31}&a_{32}&a_{33}|0&0&1\n",
    "\\end{bmatrix}\n",
    "$$"
   ]
  },
  {
   "cell_type": "markdown",
   "metadata": {},
   "source": [
    "$$\n",
    "[\\mathbf{I}|\\mathbf{A}^{-1}]\n",
    "$$"
   ]
  },
  {
   "cell_type": "markdown",
   "metadata": {},
   "source": [
    "### 교재 111p 예제"
   ]
  },
  {
   "cell_type": "markdown",
   "metadata": {},
   "source": [
    "$$\n",
    "\\mathbf{A} = \\begin{bmatrix}\n",
    "2&1&-1 \\\\ 1&4&1 \\\\ 2&1&3\n",
    "\\end{bmatrix}\n",
    "\\to \\mathbf{A}^{-1}\n",
    "$$"
   ]
  },
  {
   "cell_type": "markdown",
   "metadata": {},
   "source": [
    "$$\n",
    "\\begin{bmatrix}\n",
    "2&1&-1 &|& 1&0&0 \\\\ 1&4&1 &|& 0&1&0 \\\\ 2&1&3 &|& 0&0&1\n",
    "\\end{bmatrix}\n",
    "$$"
   ]
  },
  {
   "cell_type": "code",
   "execution_count": null,
   "metadata": {},
   "outputs": [
    {
     "data": {
      "text/plain": [
       "(array([[ 0.39285714, -0.14285714,  0.17857143],\n",
       "        [-0.03571429,  0.28571429, -0.10714286],\n",
       "        [-0.25      ,  0.        ,  0.25      ]]),\n",
       " array([[1, 0, 0],\n",
       "        [0, 1, 0],\n",
       "        [0, 0, 1]], dtype=int16))"
      ]
     },
     "execution_count": 19,
     "metadata": {},
     "output_type": "execute_result"
    }
   ],
   "source": [
    "A = np.array([\n",
    "    [2, 1, -1],\n",
    "    [1, 4, 1],\n",
    "    [2, 1, 3]\n",
    "])\n",
    "inv_A = np.linalg.inv(A)\n",
    "inv_A, np.int16(A @ inv_A)"
   ]
  },
  {
   "cell_type": "markdown",
   "metadata": {},
   "source": [
    "가우스-조던 방법:\n",
    "\n",
    "```C\n",
    " double A[3][6]={{2.0,1.0,-1.0,1.0,0.0,0.0},{1.0,4.0,1.0,0.0,1.0,0.0}\n",
    "                   ,{2.0,1.0,3.0,0.0,0.0,1.0}};  \n",
    "   \n",
    "main()\n",
    "{\n",
    "    int i,j,k,n;\n",
    "    double c,sum;\n",
    "    n=2;\n",
    "      \n",
    "   \n",
    "    FILE *out1;\n",
    "\tout1=fopen(\"inverse matrix with Gauss-Jordan Elimination_II-3-7.dat\",\"w\");     \n",
    "```"
   ]
  },
  {
   "cell_type": "markdown",
   "metadata": {},
   "source": [
    "```C\n",
    "A[0][0]=1.000000 \tA[0][1]=0.000000 \tA[0][2]=0.000000 \tA[0][3]=0.392857 \tA[0][4]=-0.142857 \tA[0][5]=0.178571 \t\n",
    "A[1][0]=0.000000 \tA[1][1]=1.000000 \tA[1][2]=0.000000 \tA[1][3]=-0.035714 \tA[1][4]=0.285714 \tA[1][5]=-0.107143 \t\n",
    "A[2][0]=0.000000 \tA[2][1]=0.000000 \tA[2][2]=1.000000 \tA[2][3]=-0.250000 \tA[2][4]=0.000000 \tA[2][5]=0.250000 \t\n",
    "```"
   ]
  },
  {
   "cell_type": "markdown",
   "metadata": {},
   "source": [
    "# Gauss-Seidel Method(Method of Iteration), 가우스-자이델 방법"
   ]
  },
  {
   "cell_type": "markdown",
   "metadata": {},
   "source": [
    "$$\n",
    "\\begin{cases}\n",
    "C_{11}x_1 + C_{12}x_2 + C_{13} x_3 = r_1\\\\\n",
    "C_{21}x_1 + C_{22}x_2 + C_{23} x_3 = r_2\\\\\n",
    "C_{31}x_1 + C_{32}x_2 + C_{33} x_3 = r_3\\\\\n",
    "\\end{cases}\n",
    "$$"
   ]
  },
  {
   "cell_type": "markdown",
   "metadata": {},
   "source": [
    "해석적 해:\n",
    "\n",
    "$$\n",
    "x_1 = \\frac{r_1 - C_{12}x_2 - C_{13}x_3}{C_{11}}\\\\\n",
    "x_2 = \\frac{r_2 - C_{21}x_1 - C_{23}x_3}{C_{22}}\\\\\n",
    "x_3 = \\frac{r_3 - C_{31}x_1 - C_{32}x_2}{C_{33}}\n",
    "$$"
   ]
  },
  {
   "cell_type": "markdown",
   "metadata": {},
   "source": [
    "__initial value__\n",
    "\n",
    "$$\n",
    "x^{(0)}_1 = 0.5\\\\\n",
    "x_2^{(0)}=0.5 \\\\\n",
    "x^{(0)}_3 = 0.5\n",
    "$$"
   ]
  },
  {
   "cell_type": "markdown",
   "metadata": {},
   "source": [
    "이 초기값을 위 식에 차례로 대입하여 값을 구한다. 그리고 그 값을 토대로 출력된 새 값들$(x_1^{(1)},x_2^{(1)},x_3^{(1)})$을 토대로 다시 식에 넣어서 새 값을 구한다. 이 스텝을 계속 반복하면 결국 실제 $x$ 값으로 수렴한다."
   ]
  },
  {
   "cell_type": "markdown",
   "metadata": {},
   "source": [
    "$$\n",
    "|x_i^{n} - x_i^{n-1}| < \\epsilon\n",
    "$$"
   ]
  },
  {
   "cell_type": "markdown",
   "metadata": {},
   "source": [
    "## 수렴 조건: 대각 우세 행렬"
   ]
  },
  {
   "cell_type": "markdown",
   "metadata": {},
   "source": [
    "$$\n",
    "\\mathbf{A}_{n\\times n}\\\\\n",
    "|a_{ii}| > \\sum^{n}_{j=1 ; j \\neq i}|a_{ij}|\n",
    "$$"
   ]
  },
  {
   "cell_type": "markdown",
   "metadata": {},
   "source": [
    "행렬의 각 대각원소가 그 행의 나머지 원소들의 합보다 커야 한다."
   ]
  },
  {
   "cell_type": "markdown",
   "metadata": {},
   "source": [
    "## Ill-conditioned Matrices와 그 영향\n",
    "\n",
    "### 1. Ill-conditioned Matrix의 정의\n",
    "**Ill-conditioned Matrix**는 행렬의 조건 수가 매우 큰 경우를 말합니다. 조건 수(Condition Number)는 행렬이 선형 연산(예: 역행렬 계산)에서 얼마나 안정적인지, 혹은 얼마나 민감하게 반응하는지를 측정하는 지표입니다. 조건 수가 큰 경우, 작은 오차가 입력될 때 큰 오차가 출력될 수 있으므로 연산 결과의 정확도가 낮아질 수 있습니다. \n",
    "\n",
    "조건 수가 매우 큰 행렬을 **Ill-conditioned Matrix**라고 부르며, 계산에 있어서 **잘못된 조건**을 가졌다고 합니다.\n",
    "\n",
    "#### 조건 수 (Condition Number)\n",
    "조건 수는 다음과 같이 정의됩니다:\n",
    "$$\n",
    "\\kappa(A) = ||A|| \\cdot ||A^{-1}||\n",
    "$$\n",
    "여기서:\n",
    "- $ ||A|| $는 행렬 $ A $의 노름(norm),\n",
    "- $ ||A^{-1}|| $는 행렬 $ A $의 역행렬의 노름입니다.\n",
    "\n",
    "조건 수 $ \\kappa(A) $가 크다는 것은 $ A $의 역행렬이 계산상 매우 불안정함을 의미합니다. 예를 들어, 조건 수가 매우 크면 컴퓨터 계산에서 발생하는 작은 반올림 오차가 결과에 큰 영향을 미칠 수 있습니다.\n",
    "\n",
    "또는:\n",
    "$$\n",
    "\\mathbf{A^{-1}} = \\begin{bmatrix}\n",
    "0&0 \\\\ 0& a_{22}\n",
    "\\end{bmatrix}\n",
    "$$\n",
    "\n",
    "와 같은 역행렬을 가졌거나\n",
    "\n",
    "$$\n",
    "\\frac{\\det(A)}{\\sqrt{\\sum_{i=1}^n\\sum_{j=1}^n a_{ij}^2}} <<1\n",
    "$$\n",
    "\n",
    "인 경우에도 ill-conditioned 이다.\n",
    "\n",
    "### 2. Ill-conditioned Matrix가 주는 영향\n",
    "Ill-conditioned Matrix는 수치 해석에서 다음과 같은 문제를 일으킬 수 있습니다.\n",
    "\n",
    "1. **오차 증폭**: Ill-conditioned Matrix의 경우, 입력 데이터의 작은 오차가 출력 결과에 크게 반영될 수 있습니다. 이는 계산의 신뢰성을 떨어뜨리고 예측 오류를 증폭시킵니다.\n",
    "   \n",
    "2. **수렴 속도 저하**: 선형 시스템을 풀기 위해 반복 알고리즘(예: Gauss-Seidel, Jacobi)을 사용할 때, 조건 수가 큰 행렬은 수렴 속도를 저하시킬 수 있습니다. 반복 계산이 많은 시간이 걸리거나, 심지어 수렴하지 않을 수도 있습니다.\n",
    "\n",
    "3. **불안정한 역행렬 계산**: 조건 수가 큰 행렬의 경우, 역행렬 계산에서 불안정성이 발생할 수 있습니다. 특히 행렬이 거의 특이(singular)하다면, 역행렬이 실제로 존재하지 않을 수 있고, 존재하더라도 수치 오차로 인해 매우 부정확하게 계산될 수 있습니다.\n",
    "\n",
    "4. **해의 신뢰성 저하**: 수치 오차가 증폭되어 실제 해와 계산된 해의 차이가 커질 수 있습니다. 이로 인해 얻어진 해가 실제 시스템을 정확히 반영하지 못할 가능성이 큽니다.\n",
    "\n",
    "### 3. 예시: 선형 시스템 해석에서의 Ill-conditioning\n",
    "선형 시스템 $ Ax = b $를 푸는 경우, 행렬 $ A $가 Ill-conditioned라면 $ b $의 작은 변화가 $ x $의 큰 변화를 초래할 수 있습니다. 이는 해의 불안정성을 가져와서, 수치적으로 정확한 해를 구하는 데 방해가 됩니다.\n",
    "\n",
    "예를 들어, 매우 비슷한 값으로 구성된 행렬을 고려해 봅시다:\n",
    "$$\n",
    "A = \\begin{bmatrix} 1 & 0.999 \\\\ 0.999 & 0.998 \\end{bmatrix}\n",
    "$$\n",
    "이 행렬의 조건 수는 매우 큽니다. 이는 $ b $에 작은 변화가 생기면, $ x $의 값이 크게 달라질 수 있음을 나타냅니다.\n",
    "\n",
    "### 4. Ill-conditioned Matrix를 다루는 방법\n",
    "- **정규화(Normalization)**: 행렬을 정규화하여 조건 수를 줄일 수 있습니다.\n",
    "- **행렬 분해(Matrix Decomposition)**: SVD(Singular Value Decomposition)나 QR 분해를 통해 Ill-conditioned 문제를 다룰 수 있습니다.\n",
    "- **프리컨디셔닝(Preconditioning)**: 조건 수를 줄이기 위해 프리컨디셔닝을 적용하여 계산의 안정성을 높입니다.\n",
    "- **정밀도 향상**: 고정밀도 연산을 통해 계산 정확도를 높이고, 반올림 오차를 줄입니다.\n",
    "\n",
    "### 요약\n",
    "Ill-conditioned Matrix는 작은 입력 오차가 큰 결과 오차로 이어질 수 있는 행렬로, 계산에서 불안정성을 초래합니다. 선형 시스템 해석, 역행렬 계산, 반복적 방법에서 영향을 미칠 수 있으며, 이를 해결하기 위해 정규화, 행렬 분해, 프리컨디셔닝 등의 방법을 사용합니다."
   ]
  },
  {
   "cell_type": "markdown",
   "metadata": {},
   "source": [
    "## Relaxation factor method\n",
    "\n",
    "값을 좀 더 안정적으로 또는 빠르게 수렴되게 하는 방법(Method)\n",
    "$$\n",
    "x_i^{n}= (x^{*n}_i-x_i^{n-1})\\lambda + x_i^{n-1}\n",
    "$$"
   ]
  },
  {
   "cell_type": "markdown",
   "metadata": {},
   "source": [
    "여기서:\n",
    "- $x^{*n}_i$: 방정식에 값을 대입하여 구한 현재 값\n",
    "- $\\lambda$\n",
    "    - $0<\\lambda <1$: under relaxation\n",
    "    - $1<\\lambda <2$: over relaxation"
   ]
  },
  {
   "cell_type": "markdown",
   "metadata": {},
   "source": [
    "2 이상은 대부분 발산해버려서 제외한다."
   ]
  },
  {
   "cell_type": "markdown",
   "metadata": {},
   "source": [
    "## 예제"
   ]
  },
  {
   "cell_type": "markdown",
   "metadata": {},
   "source": [
    "### 교재 122p"
   ]
  },
  {
   "cell_type": "code",
   "execution_count": 6,
   "metadata": {},
   "outputs": [
    {
     "name": "stdout",
     "output_type": "stream",
     "text": [
      "x= [1. 2. 3.]\n",
      "Iteration 1:\n",
      "x[0] = 0.500000\n",
      "x[1] = 2.875000\n",
      "x[2] = 3.041667\n",
      "Iteration 2:\n",
      "x[0] = 0.583333\n",
      "x[1] = 2.093750\n",
      "x[2] = 3.246528\n",
      "Iteration 3:\n",
      "x[0] = 1.076389\n",
      "x[1] = 1.919271\n",
      "x[2] = 2.975984\n",
      "Iteration 4:\n",
      "x[0] = 1.028356\n",
      "x[1] = 1.998915\n",
      "x[2] = 2.981457\n",
      "Iteration 5:\n",
      "x[0] = 0.991271\n",
      "x[1] = 2.006818\n",
      "x[2] = 3.003547\n",
      "Iteration 6:\n",
      "x[0] = 0.998364\n",
      "x[1] = 1.999522\n",
      "x[2] = 3.001250\n",
      "Iteration 7:\n",
      "x[0] = 1.000864\n",
      "x[1] = 1.999472\n",
      "x[2] = 2.999600\n",
      "Iteration 8:\n",
      "x[0] = 1.000064\n",
      "x[1] = 2.000084\n",
      "x[2] = 2.999929\n",
      "Iteration 9:\n",
      "x[0] = 0.999923\n",
      "x[1] = 2.000037\n",
      "x[2] = 3.000039\n",
      "Iteration 10:\n",
      "x[0] = 1.000001\n",
      "x[1] = 1.999990\n",
      "x[2] = 3.000003\n",
      "Iteration 11:\n",
      "x[0] = 1.000006\n",
      "x[1] = 1.999998\n",
      "x[2] = 2.999997\n",
      "Iteration 12:\n",
      "x[0] = 0.999999\n",
      "x[1] = 2.000001\n",
      "x[2] = 3.000000\n",
      "Iteration 13:\n",
      "x[0] = 1.000000\n",
      "x[1] = 2.000000\n",
      "x[2] = 3.000000\n",
      "Iteration 14:\n",
      "x[0] = 1.000000\n",
      "x[1] = 2.000000\n",
      "x[2] = 3.000000\n",
      "Iteration 15:\n",
      "x[0] = 1.000000\n",
      "x[1] = 2.000000\n",
      "x[2] = 3.000000\n",
      "Iteration 16:\n",
      "x[0] = 1.000000\n",
      "x[1] = 2.000000\n",
      "x[2] = 3.000000\n",
      "Iteration 17:\n",
      "x[0] = 1.000000\n",
      "x[1] = 2.000000\n",
      "x[2] = 3.000000\n",
      "Iteration 18:\n",
      "x[0] = 1.000000\n",
      "x[1] = 2.000000\n",
      "x[2] = 3.000000\n",
      "Iteration 19:\n",
      "x[0] = 1.000000\n",
      "x[1] = 2.000000\n",
      "x[2] = 3.000000\n",
      "Iteration 20:\n",
      "x[0] = 1.000000\n",
      "x[1] = 2.000000\n",
      "x[2] = 3.000000\n",
      "Iteration 21:\n",
      "x[0] = 1.000000\n",
      "x[1] = 2.000000\n",
      "x[2] = 3.000000\n",
      "Converged after 21 iterations.\n"
     ]
    }
   ],
   "source": [
    "import numpy as np\n",
    "from Linear_Equation import Linear_Equation\n",
    "\n",
    "A = np.array([\n",
    "    [2, 1, -1],\n",
    "    [1, 4, 1],\n",
    "    [2, 1, 3]\n",
    "])\n",
    "b = np.reshape(np.array([1, 12, 13]), newshape=(-1 ,1))\n",
    "\n",
    "augmented_matrix = np.hstack([A, b])\n",
    "x, k, logs = Linear_Equation(augmented_matrix).Gauss_Seidel(epsilon=1e-10, max_iter=1000)\n",
    "\n",
    "print('x=',x)\n",
    "print('\\n'.join(logs))"
   ]
  },
  {
   "cell_type": "markdown",
   "metadata": {},
   "source": [
    "```C\n",
    "iter#=15\t\n",
    "sum_old=3.000000\t\n",
    "sum_new=3.000000\t\n",
    "res=0.000000\t\n",
    "iter#=16\t\n",
    "sum_old=3.000000\t\n",
    "sum_new=3.000000\t\n",
    "res=0.000000\t\n",
    "iter#=17\t\n",
    "sum_old=3.000000\t\n",
    "sum_new=3.000000\t\n",
    "res=0.000000\t\n",
    "\n",
    "x0=1.000000\t\n",
    "x1=2.000000\t\n",
    "x2=3.000000\t\n",
    "```"
   ]
  },
  {
   "cell_type": "markdown",
   "metadata": {},
   "source": [
    "### 교재 129p"
   ]
  },
  {
   "cell_type": "code",
   "execution_count": 7,
   "metadata": {},
   "outputs": [
    {
     "name": "stdout",
     "output_type": "stream",
     "text": [
      "x= [ 1.72879431e+20 -8.11066908e+19 -8.90924781e+20 -1.73864112e+21]\n",
      "Iteration 1:\n",
      "x[0] = 6.666667\n",
      "x[1] = -2.098039\n",
      "x[2] = -31.994118\n",
      "x[3] = -58.750588\n",
      "Iteration 2:\n",
      "x[0] = 885.764183\n",
      "x[1] = -416.527859\n",
      "x[2] = -4553.777772\n",
      "x[3] = -8853.966693\n",
      "Iteration 3:\n",
      "x[0] = 127970.335068\n",
      "x[1] = -60051.682692\n",
      "x[2] = -659417.810140\n",
      "x[3] = -1286629.148656\n",
      "Iteration 4:\n",
      "x[0] = 18559222.310778\n",
      "x[1] = -8707193.824927\n",
      "x[2] = -95643481.529633\n",
      "x[3] = -186646898.195836\n",
      "Iteration 5:\n",
      "x[0] = 2692075947.456265\n",
      "x[1] = -1262992875.116233\n",
      "x[2] = -13873464439.785172\n",
      "x[3] = -27074077824.262432\n",
      "Iteration 6:\n",
      "x[0] = 390497607221.620300\n",
      "x[1] = -183202647461.125244\n",
      "x[2] = -2012408239306.283936\n",
      "x[3] = -3927217802307.135742\n",
      "Iteration 7:\n",
      "x[0] = 56643438399443.101562\n",
      "x[1] = -26574369312767.625000\n",
      "x[2] = -291908890444457.250000\n",
      "x[3] = -569660661963804.875000\n",
      "Iteration 8:\n",
      "x[0] = 8216386244485628.000000\n",
      "x[1] = -3854732135088532.000000\n",
      "x[2] = -42342701307155456.000000\n",
      "x[3] = -82631848715205856.000000\n",
      "Iteration 9:\n",
      "x[0] = 1191823887795584512.000000\n",
      "x[1] = -559146284354237376.000000\n",
      "x[2] = -6141999827060020224.000000\n",
      "x[3] = -11986122398144761856.000000\n",
      "Iteration 10:\n",
      "x[0] = 172879431091050610688.000000\n",
      "x[1] = -81106690783323881472.000000\n",
      "x[2] = -890924780697612976128.000000\n",
      "x[3] = -1738641121732172709888.000000\n",
      "Did not converge after 10 iterations.\n"
     ]
    }
   ],
   "source": [
    "import numpy as np\n",
    "from Linear_Equation import Linear_Equation\n",
    "\n",
    "A = np.array([\n",
    "    [3, -7, 48, 19],\n",
    "    [10, 17, 16, 21],\n",
    "    [60, 21, 10, -20],\n",
    "    [18, 63, -12, 5]\n",
    "])\n",
    "\n",
    "b = np.array([20, 31, 36, 78]).reshape(-1, 1)\n",
    "augmented_matrix = np.hstack([A, b])\n",
    "x, k, logs = Linear_Equation(augmented_matrix).Gauss_Seidel(epsilon=1e-10, max_iter=10)\n",
    "\n",
    "print('x=',x)\n",
    "print('\\n'.join(logs))"
   ]
  },
  {
   "cell_type": "markdown",
   "metadata": {},
   "source": [
    "`gauss siedel iteration_(II-3-11).cpp` 사용 시:\n",
    "\n",
    "```C\n",
    "iter#=19\t\n",
    "sum_old=44182750998988670621316358746884794220544.000000\t\n",
    "sum_new=6408907335196742427940065940686975862308864.000000\t\n",
    "res=6364724584197753718633123354271957477490688.000000\t\n",
    "iter#=20\t\n",
    "sum_old=6408907335196742427940065940686975862308864.000000\t\n",
    "sum_new=929640918739505327830593760998025312031735808.000000\t\n",
    "res=923232011404308597782054087911141085160669184.000000\t\n",
    "\n",
    "x0=-63328956649975522878710558004401545672654848.000000\t\n",
    "x1=29710891991160767549243287428426774461022208.000000\t\n",
    "x2=326362346631480583769794125642062631714947072.000000\t\n",
    "x3=636896636766839553859628634488669547089887232.000000\t\n",
    "```"
   ]
  },
  {
   "cell_type": "markdown",
   "metadata": {},
   "source": [
    "대각 우세 조건이 만족되지 못해 부동소수점 근사 오류(round-off error)가 누적되어 무한대로 발산하는 것을 볼 수 있다."
   ]
  },
  {
   "cell_type": "markdown",
   "metadata": {},
   "source": [
    "이럴 경우 행의 순서를 바꾸어 대각원소에 큰 값이 위치하게 한 뒤 가우스-자이델 방법으로 풀이할 수 있다."
   ]
  },
  {
   "cell_type": "markdown",
   "metadata": {},
   "source": [
    "`gauss siedel iteration_(II-3-11_m).cpp` 사용 시\n",
    "\n",
    "```C\n",
    "iter#=20\t\n",
    "sum_old=1.877452\t\n",
    "sum_new=1.877452\t\n",
    "res=0.000000\t\n",
    "\n",
    "x0=-0.050677\t\n",
    "x1=1.394092\t\n",
    "x2=0.681516\t\n",
    "x3=-0.147478\t\n",
    "```"
   ]
  },
  {
   "cell_type": "markdown",
   "metadata": {},
   "source": [
    "### 교재 135p\n",
    "\n",
    "Relaxation factor 예제"
   ]
  },
  {
   "cell_type": "code",
   "execution_count": 8,
   "metadata": {},
   "outputs": [
    {
     "data": {
      "text/plain": [
       "array([[1.],\n",
       "       [1.],\n",
       "       [1.],\n",
       "       [1.]])"
      ]
     },
     "execution_count": 8,
     "metadata": {},
     "output_type": "execute_result"
    }
   ],
   "source": [
    "import numpy as np\n",
    "\n",
    "A = np.array([\n",
    "    [6,5,4,3],\n",
    "    [5,6,4,5],\n",
    "    [6,7,7,6],\n",
    "    [7,8,7,8]\n",
    "])\n",
    "b = np.array([18, 20, 26, 30]).reshape(-1, 1)\n",
    "\n",
    "np.linalg.solve(A, b)"
   ]
  },
  {
   "cell_type": "markdown",
   "metadata": {},
   "source": [
    "$\\lambda = 1$ 일 때:"
   ]
  },
  {
   "cell_type": "markdown",
   "metadata": {},
   "source": [
    "```C\n",
    "iter#=72 \t\n",
    "sum_old=4.000000\t\n",
    "sum_new=4.000000\t\n",
    "res=0.000000\t\n",
    "\n",
    "x0=1.000000\t\n",
    "x1=1.000000\t\n",
    "x2=1.000000\t\n",
    "x3=1.000000\t\n",
    "```"
   ]
  },
  {
   "cell_type": "markdown",
   "metadata": {},
   "source": [
    "$\\lambda = 0.7$ 일 때:\n",
    "\n",
    "```C\n",
    "iter#=147 \t\n",
    "sum_old=4.000000\t\n",
    "sum_new=4.000000\t\n",
    "res=0.000000\t\n",
    "\n",
    "x0=1.000000\t\n",
    "x1=1.000000\t\n",
    "x2=1.000000\t\n",
    "x3=1.000000\t\n",
    "```"
   ]
  },
  {
   "cell_type": "markdown",
   "metadata": {},
   "source": [
    "$\\lambda = 1.2$ 일 때:\n",
    "\n",
    "```C\n",
    "iter#=71 \t\n",
    "sum_old=4.000000\t\n",
    "sum_new=4.000000\t\n",
    "res=0.000000\t\n",
    "\n",
    "x0=1.000000\t\n",
    "x1=1.000000\t\n",
    "x2=1.000000\t\n",
    "x3=1.000000\t\n",
    "```"
   ]
  },
  {
   "cell_type": "markdown",
   "metadata": {},
   "source": [
    "$\\lambda = 2.1$ 일 때:\n",
    "```C\n",
    "iter#=10000 \t\n",
    "sum_old=-nan(ind)\t\n",
    "sum_new=-nan(ind)\t\n",
    "res=nan\t\n",
    "\n",
    "x0=-nan(ind)\t\n",
    "x1=-nan(ind)\t\n",
    "x2=-nan(ind)\t\n",
    "x3=-nan(ind)\t\n",
    "```"
   ]
  },
  {
   "cell_type": "markdown",
   "metadata": {},
   "source": [
    "### Chapra 책 Prob. 11. 12"
   ]
  },
  {
   "attachments": {
    "image.png": {
     "image/png": "[encoded data removed]"
    }
   },
   "cell_type": "markdown",
   "metadata": {},
   "source": [
    "![image.png](attachment:image.png)"
   ]
  },
  {
   "cell_type": "code",
   "execution_count": 9,
   "metadata": {},
   "outputs": [
    {
     "data": {
      "text/plain": [
       "array([[ 55.91566086],\n",
       "       [ 85.74110349],\n",
       "       [ 93.11626404],\n",
       "       [100.23734848]])"
      ]
     },
     "execution_count": 9,
     "metadata": {},
     "output_type": "execute_result"
    }
   ],
   "source": [
    "import numpy as np\n",
    "\n",
    "A = np.array([\n",
    "    [13.422, 0, 0, 0],\n",
    "    [-13.422, 12.252, 0,0],\n",
    "    [0,-12.252,12.377,0],\n",
    "    [0,0, -12.377, 11.797]\n",
    "])\n",
    "b = np.array([750.5, 300, 102, 30]).reshape(-1,1)\n",
    "\n",
    "# (a)\n",
    "A_inv = np.linalg.inv(A)\n",
    "A_inv @ b"
   ]
  },
  {
   "cell_type": "code",
   "execution_count": 10,
   "metadata": {},
   "outputs": [
    {
     "data": {
      "text/plain": [
       "array([[0.07450454, 0.        , 0.        , 0.        ],\n",
       "       [0.08161933, 0.08161933, 0.        , 0.        ],\n",
       "       [0.08079502, 0.08079502, 0.08079502, 0.        ],\n",
       "       [0.08476731, 0.08476731, 0.08476731, 0.08476731]])"
      ]
     },
     "execution_count": 10,
     "metadata": {},
     "output_type": "execute_result"
    }
   ],
   "source": [
    "A_inv"
   ]
  },
  {
   "cell_type": "code",
   "execution_count": 11,
   "metadata": {},
   "outputs": [
    {
     "data": {
      "text/plain": [
       "array([[55.91566086],\n",
       "       [85.74110349],\n",
       "       [93.11626404],\n",
       "       [75.        ]])"
      ]
     },
     "execution_count": 11,
     "metadata": {},
     "output_type": "execute_result"
    }
   ],
   "source": [
    "# (b)\n",
    "\n",
    "target_diff = np.array([0,0,0,75 - (A_inv @ b)[3,0]]).reshape(-1, 1)\n",
    "delta = np.linalg.solve(A_inv, target_diff)\n",
    "target_c = A_inv @ (delta + b)\n",
    "target_c"
   ]
  },
  {
   "cell_type": "code",
   "execution_count": 12,
   "metadata": {},
   "outputs": [
    {
     "data": {
      "text/plain": [
       "array([[   0.   ],\n",
       "       [  -0.   ],\n",
       "       [  -0.   ],\n",
       "       [-297.725]])"
      ]
     },
     "execution_count": 12,
     "metadata": {},
     "output_type": "execute_result"
    }
   ],
   "source": [
    "delta.round(4)"
   ]
  }
 ],
 "metadata": {
  "kernelspec": {
   "display_name": "doe_env",
   "language": "python",
   "name": "python3"
  },
  "language_info": {
   "codemirror_mode": {
    "name": "ipython",
    "version": 3
   },
   "file_extension": ".py",
   "mimetype": "text/x-python",
   "name": "python",
   "nbconvert_exporter": "python",
   "pygments_lexer": "ipython3",
   "version": "3.10.15"
  }
 },
 "nbformat": 4,
 "nbformat_minor": 2
}

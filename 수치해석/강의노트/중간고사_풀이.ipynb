{
 "cells": [
  {
   "cell_type": "markdown",
   "metadata": {},
   "source": [
    "# 1. $f(x)=\\cosh(x)$ 를 $x=0$ 에서 테일러 급수 전개를 해라."
   ]
  },
  {
   "cell_type": "markdown",
   "metadata": {},
   "source": [
    "$$\n",
    "f(x) = f(0) + xf'(0) + \\frac{x^2}{2!}f''(0) + \\frac{x^3}{3!}f'''(0) + \\frac{x^4}{4!}f^{iv}(0) + \\cdots \n",
    "$$\n",
    "$$\n",
    "\\text{where} \\ f(0) = 1,\\ f'(0)=0, f''(0) = 1, ...\n",
    "$$"
   ]
  },
  {
   "cell_type": "markdown",
   "metadata": {},
   "source": [
    "$$\n",
    "f(x) = 1+ \\frac{x^2}{2} + \\frac{x^4}{4} + \\cdots\n",
    "$$\n",
    "\n",
    "$$\n",
    "f(x) = 1+ \\frac{x^2}{2} + \\sigma(x^4)\n",
    "$$"
   ]
  },
  {
   "cell_type": "markdown",
   "metadata": {},
   "source": [
    "$$\n",
    "f(0.5) = 1 + \\frac{0.5^2 }{2} + \\sigma(0.5^4)= 1.125 + \\sigma(0.5^4)\n",
    "$$"
   ]
  },
  {
   "cell_type": "markdown",
   "metadata": {},
   "source": [
    "실제로는 $\\cosh(0.5) = 1.127626$"
   ]
  },
  {
   "cell_type": "markdown",
   "metadata": {},
   "source": [
    "오차 한계 구하기:"
   ]
  },
  {
   "cell_type": "markdown",
   "metadata": {},
   "source": [
    "$$\n",
    "\\bigg| \\frac{d^{4}f}{dx^{4}}\\bigg|_{max} \\cdot \\frac{|x-a|^{4}}{(4+1)!} = 0.00293653 > 0.002626\n",
    "$$"
   ]
  },
  {
   "cell_type": "markdown",
   "metadata": {},
   "source": [
    "# 2. 차분계수가 주어졌을 때의 2계 오차정확도 1계 미분값"
   ]
  },
  {
   "cell_type": "markdown",
   "metadata": {},
   "source": [
    "$$\n",
    "\\frac{\\Delta f_j}{h} = 0.95, \\frac{\\Delta^2 f_j}{h^2}=-1\n",
    "$$"
   ]
  },
  {
   "cell_type": "markdown",
   "metadata": {},
   "source": [
    "$$\n",
    "f'(x_j) = \\frac{-f_{j+2}+4f_{j+1}-3f_j}{2h} + \\sigma(h^2)\n",
    "$$"
   ]
  },
  {
   "cell_type": "markdown",
   "metadata": {},
   "source": [
    "$$\n",
    "f'(x_j) = \\frac{1}{2}\\left(\\frac{-f_{j+2}+4f_{j+1}-3f_j}{h} \\right) = \\frac{1}{2}\\left(-\\frac{\\Delta^2f_j}{h}+2\\frac{\\Delta f_j}{h} \\right)\n",
    "$$\n",
    "\n",
    "$$\n",
    "= 0.5 (0.1 + 2 \\times 0.95) = 1 + \\sigma(h^2)\n",
    "$$\n"
   ]
  },
  {
   "cell_type": "markdown",
   "metadata": {},
   "source": [
    "# 3. 라그랑지 보간법"
   ]
  },
  {
   "cell_type": "markdown",
   "metadata": {},
   "source": [
    "|$x$|$f(x)$|\n",
    "|----|----|\n",
    "|1.0|3.07|\n",
    "|2.0|5.4|\n",
    "|3.0|11.95|"
   ]
  },
  {
   "cell_type": "markdown",
   "metadata": {},
   "source": [
    "가 주어졌을 때 $f(2.2)=?$"
   ]
  },
  {
   "cell_type": "markdown",
   "metadata": {},
   "source": [
    "$$\n",
    "f(x) = f(x_0)P_0(x) + f(x_1)P_1(x)+f(x_2)P_2(x) = 6.3724\n",
    "$$"
   ]
  },
  {
   "cell_type": "code",
   "execution_count": 30,
   "metadata": {},
   "outputs": [
    {
     "data": {
      "text/plain": [
       "6.372400000000001"
      ]
     },
     "execution_count": 30,
     "metadata": {},
     "output_type": "execute_result"
    }
   ],
   "source": [
    "import numpy as np\n",
    "\n",
    "x = np.array([1., 2., 3.])\n",
    "fx = np.array([3.07, 5.4, 11.95])\n",
    "\n",
    "px = np.array([np.prod(2.2 - x[[1,2]])/np.prod(x[0]-x[[1,2]]),np.prod(2.2 - x[[0,2]])/np.prod(x[1]-x[[0,2]]),\n",
    "                np.prod(2.2 - x[[0,1]])/np.prod(x[2]-x[[0,1]])])\n",
    "np.sum(px * fx)"
   ]
  },
  {
   "cell_type": "markdown",
   "metadata": {},
   "source": [
    "# 4. 할선법 계산하기"
   ]
  },
  {
   "cell_type": "markdown",
   "metadata": {},
   "source": [
    "$$\n",
    "f(x) = \\ln\\left(\\frac{3}{x}\\right)\n",
    "$$"
   ]
  },
  {
   "cell_type": "markdown",
   "metadata": {},
   "source": [
    "$$\n",
    "x^{(1)} = x_0 - \\left(\\frac{f(x_0)}{f'(x_0)} \\sim \\frac{f(x_0)}{\\frac{f(x_0)-f(x_{00})}{x_0 - x_{00}}} \\right)\n",
    "$$\n",
    "\n",
    "위 식을 반복"
   ]
  },
  {
   "cell_type": "code",
   "execution_count": 37,
   "metadata": {},
   "outputs": [
    {
     "name": "stdout",
     "output_type": "stream",
     "text": [
      "1.1004113577911006\n",
      "2.9999999999991176\n"
     ]
    }
   ],
   "source": [
    "import numpy as np\n",
    "\n",
    "def f(x):\n",
    "    return np.log(3/x)\n",
    "\n",
    "x00 = 0.9\n",
    "x0 = 1.0\n",
    "x1 = x0 - f(x0)/(f(x0)-f(x00)/(x0-x00))\n",
    "print(x1)\n",
    "for i in range(100):\n",
    "    x0 = x0 - f(x1)/(f(x1)-f(x0)/(x1-x0))\n",
    "    x1 = x0 - f(x0)/(f(x0)-f(x00)/(x0-x00))\n",
    "print(x1)"
   ]
  },
  {
   "cell_type": "markdown",
   "metadata": {},
   "source": [
    "# 5. 수치적분"
   ]
  },
  {
   "cell_type": "markdown",
   "metadata": {},
   "source": [
    "$$\n",
    "f(x) = 1 - e^{-x}\n",
    "$$\n",
    "\n",
    "심슨 방법과 사다리꼴 방법으로 위 함수의 적분값을 0에서 4까지 근사하라"
   ]
  },
  {
   "cell_type": "markdown",
   "metadata": {},
   "source": [
    "두 방법의 오차값도 계산하여 비교하라."
   ]
  }
 ],
 "metadata": {
  "kernelspec": {
   "display_name": "base",
   "language": "python",
   "name": "python3"
  },
  "language_info": {
   "codemirror_mode": {
    "name": "ipython",
    "version": 3
   },
   "file_extension": ".py",
   "mimetype": "text/x-python",
   "name": "python",
   "nbconvert_exporter": "python",
   "pygments_lexer": "ipython3",
   "version": "3.12.3"
  }
 },
 "nbformat": 4,
 "nbformat_minor": 2
}
